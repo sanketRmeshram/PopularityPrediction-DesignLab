{
 "cells": [
  {
   "cell_type": "code",
   "execution_count": 1,
   "id": "38168329-ffee-4822-9a76-9c14bacb195b",
   "metadata": {},
   "outputs": [],
   "source": [
    "import pickle"
   ]
  },
  {
   "cell_type": "code",
   "execution_count": 20,
   "id": "0cd9af99-10a9-4365-bd3a-009456dede88",
   "metadata": {},
   "outputs": [],
   "source": [
    "groupjoin = pickle.load(open(\"data/groupjoin\",\"rb\"))"
   ]
  },
  {
   "cell_type": "code",
   "execution_count": 21,
   "id": "bb6251b7-4a66-43a9-84a2-4ad2fddfef91",
   "metadata": {},
   "outputs": [
    {
     "data": {
      "text/plain": [
       "5952"
      ]
     },
     "execution_count": 21,
     "metadata": {},
     "output_type": "execute_result"
    }
   ],
   "source": [
    "len(groupjoin)"
   ]
  },
  {
   "cell_type": "code",
   "execution_count": 5,
   "id": "ade1f146-9617-4dd8-bae3-7fd8abfe8c6d",
   "metadata": {},
   "outputs": [],
   "source": [
    "import pandas as pd"
   ]
  },
  {
   "cell_type": "code",
   "execution_count": 6,
   "id": "c9ad15b5-a078-400e-a699-d8e8df7ba4a2",
   "metadata": {},
   "outputs": [],
   "source": [
    "groupjoin = pickle.load(open(\"data/groupjoin\",\"rb\"))"
   ]
  },
  {
   "cell_type": "code",
   "execution_count": 7,
   "id": "4925dbda-3a7d-4e9b-a70c-7e5cd8252ab2",
   "metadata": {},
   "outputs": [
    {
     "data": {
      "text/plain": [
       "5952"
      ]
     },
     "execution_count": 7,
     "metadata": {},
     "output_type": "execute_result"
    }
   ],
   "source": [
    "len(groupjoin)"
   ]
  },
  {
   "cell_type": "code",
   "execution_count": 15,
   "id": "8dfbf768-ed37-4f30-ba4c-3acdd3f1e537",
   "metadata": {},
   "outputs": [
    {
     "data": {
      "text/plain": [
       "(1737,\n",
       " [(7467415, 1278656196000),\n",
       "  (10290000, 1278656973000),\n",
       "  (8978228, 1278677405000),\n",
       "  (9041705, 1278681464000),\n",
       "  (11413753, 1278685331000),\n",
       "  (11738963, 1278686299000),\n",
       "  (4323799, 1278688849000),\n",
       "  (6657235, 1278697584000),\n",
       "  (9061588, 1278698802000),\n",
       "  (6008990, 1278699541000)])"
      ]
     },
     "execution_count": 15,
     "metadata": {},
     "output_type": "execute_result"
    }
   ],
   "source": [
    "len(groupjoin[1671174]),groupjoin[1671174][:10]"
   ]
  },
  {
   "cell_type": "code",
   "execution_count": 16,
   "id": "104a4dd8-fb11-4abf-a6ed-69f7fe0a8f51",
   "metadata": {},
   "outputs": [],
   "source": [
    "ersvp = pickle.load(open(\"data/ersvp\",\"rb\"))"
   ]
  },
  {
   "cell_type": "code",
   "execution_count": 19,
   "id": "dbc5fa9d-05ca-4012-a114-e1bf41c03db5",
   "metadata": {},
   "outputs": [
    {
     "data": {
      "text/plain": [
       "(294571,\n",
       " [(7918822, 1397910371000),\n",
       "  (103016352, 1397757003000),\n",
       "  (104586062, 1397918738000)])"
      ]
     },
     "execution_count": 19,
     "metadata": {},
     "output_type": "execute_result"
    }
   ],
   "source": [
    "len(ersvp),ersvp['dlfrldysgbbc']"
   ]
  },
  {
   "cell_type": "code",
   "execution_count": 20,
   "id": "2a53863c-6b93-4739-871b-f058a7b343d7",
   "metadata": {},
   "outputs": [],
   "source": [
    "new_grp_event = pickle.load(open(\"data/new_grp_event\",\"rb\"))"
   ]
  },
  {
   "cell_type": "code",
   "execution_count": 27,
   "id": "75f93b97-9b88-4836-a553-c0a4b27df7fd",
   "metadata": {},
   "outputs": [
    {
     "data": {
      "text/plain": [
       "(5647,\n",
       " 177,\n",
       " [('14013449', 1279029600000),\n",
       "  ('14097177', 1282917600000),\n",
       "  ('14704584', 1292598000000),\n",
       "  ('16638356', 1298484000000),\n",
       "  ('16908526', 1307111400000),\n",
       "  ('24160391', 1310135400000),\n",
       "  ('57096322', 1332608400000),\n",
       "  ('56590142', 1335535200000),\n",
       "  ('62400822', 1338559200000),\n",
       "  ('67315922', 1340978400000)])"
      ]
     },
     "execution_count": 27,
     "metadata": {},
     "output_type": "execute_result"
    }
   ],
   "source": [
    "len(new_grp_event),len(new_grp_event[1671174]),new_grp_event[1671174][:10]"
   ]
  },
  {
   "cell_type": "code",
   "execution_count": 30,
   "id": "8d5f7748-bddc-4c03-bea6-3478801299db",
   "metadata": {},
   "outputs": [],
   "source": [
    "x = []\n",
    "for i in new_grp_event :\n",
    "    if i in groupjoin:\n",
    "        x.append(i)"
   ]
  },
  {
   "cell_type": "code",
   "execution_count": 49,
   "id": "d926b914-8737-4ff0-bfd4-3ef155b2e8ff",
   "metadata": {},
   "outputs": [],
   "source": [
    "def GetValidGrps(new_grp_event,groupjoin) :\n",
    "    return [i for i in new_grp_event if i in groupjoin]\n",
    "            "
   ]
  },
  {
   "cell_type": "code",
   "execution_count": 36,
   "id": "451b3a07-2b75-44db-a1da-ebad960eedf2",
   "metadata": {},
   "outputs": [
    {
     "data": {
      "text/plain": [
       "(5319,\n",
       " [1671174,\n",
       "  1638409,\n",
       "  15859722,\n",
       "  1769484,\n",
       "  18645005,\n",
       "  18448408,\n",
       "  1703963,\n",
       "  20185123,\n",
       "  20447271,\n",
       "  16711722])"
      ]
     },
     "execution_count": 36,
     "metadata": {},
     "output_type": "execute_result"
    }
   ],
   "source": [
    "len(x),x[:10]"
   ]
  },
  {
   "cell_type": "code",
   "execution_count": 50,
   "id": "6f1816b5-a0ed-47cc-b972-d456a291849f",
   "metadata": {},
   "outputs": [
    {
     "data": {
      "text/plain": [
       "5319"
      ]
     },
     "execution_count": 50,
     "metadata": {},
     "output_type": "execute_result"
    }
   ],
   "source": [
    "len(GetValidGrps(new_grp_event,groupjoin))"
   ]
  },
  {
   "cell_type": "code",
   "execution_count": null,
   "id": "7a2fc4c5-ce11-4124-915d-b8d87e4a1b20",
   "metadata": {},
   "outputs": [],
   "source": []
  },
  {
   "cell_type": "code",
   "execution_count": 45,
   "id": "baa12903-913b-4be1-b49f-90d97c7918fb",
   "metadata": {},
   "outputs": [],
   "source": [
    "def make_social_graph_of_grp_members(grp_id,groupjoin,ersvp,new_grp_event) :\n",
    "    member_set = set()\n",
    "    for member,time in groupjoin[grp_id] :\n",
    "        member_set.add(member)\n",
    "    \n",
    "    events_in_grp = []\n",
    "    \n",
    "    for event_id,time in new_grp_event[grp_id] :\n",
    "        if event_id in ersvp:\n",
    "            events_in_grp.append(event_id)\n",
    "    edges = {}\n",
    "    for event_id in events_in_grp :\n",
    "\n",
    "        event_member_set = list(set([member for member,time in ersvp[event_id]  if member in member_set ]))\n",
    "        event_member_set = sorted(event_member_set)\n",
    "        for i in range(len(event_member_set)) :\n",
    "            for j in range(i+1,len(event_member_set)):\n",
    "                if (event_member_set[i],event_member_set[j]) in edges :\n",
    "                    edges[(event_member_set[i],event_member_set[j])]+=1\n",
    "                else :\n",
    "                    edges[(event_member_set[i],event_member_set[j])]=1\n",
    "    return list(member_set),[(i,j,edges[(i,j)]) for i,j in edges]\n",
    "                \n",
    "        \n",
    "        \n",
    "        \n",
    "    \n",
    "    "
   ]
  },
  {
   "cell_type": "code",
   "execution_count": 46,
   "id": "e1c5db7d-a097-4f70-9c10-4c8157b36b85",
   "metadata": {},
   "outputs": [],
   "source": [
    "members,edges =  make_social_graph_of_grp_members(1671174,groupjoin,ersvp,new_grp_event)"
   ]
  },
  {
   "cell_type": "code",
   "execution_count": 47,
   "id": "b708ac03-e640-43a3-afc3-2b303d7f3075",
   "metadata": {},
   "outputs": [
    {
     "data": {
      "text/plain": [
       "((1737,\n",
       "  [4677635,\n",
       "   78503952,\n",
       "   72146962,\n",
       "   211894314,\n",
       "   181026862,\n",
       "   192176181,\n",
       "   190709814,\n",
       "   7921723,\n",
       "   182566981,\n",
       "   209363031]),\n",
       " (55199,\n",
       "  [(5620833, 6657235, 1),\n",
       "   (5620833, 7467415, 1),\n",
       "   (5620833, 8978228, 2),\n",
       "   (5620833, 9041705, 3),\n",
       "   (5620833, 9061588, 1),\n",
       "   (5620833, 9420414, 2),\n",
       "   (5620833, 10290000, 1),\n",
       "   (5620833, 11350459, 2),\n",
       "   (5620833, 11413753, 2),\n",
       "   (5620833, 11738963, 5)]))"
      ]
     },
     "execution_count": 47,
     "metadata": {},
     "output_type": "execute_result"
    }
   ],
   "source": [
    "(len(members),members[:10]),(len(edges),edges[:10])"
   ]
  },
  {
   "cell_type": "code",
   "execution_count": 48,
   "id": "56bc6afd-1907-4fbd-8e0c-e873f2f7e860",
   "metadata": {},
   "outputs": [],
   "source": [
    "def make_member_level_features(grp_id,groupjoin,ersvp,new_grp_event) :\n",
    "    members,edges =  make_social_graph_of_grp_members(grp_id,groupjoin,ersvp,new_grp_event)\n",
    "    adjacency_list = {}\n",
    "    for member in members :\n",
    "        adjacency_list[member] = []\n",
    "    for i,j,w in edges :\n",
    "        adjacency_list[i].append((j,w))\n",
    "        adjacency_list[j].append((i,w))\n",
    "    "
   ]
  },
  {
   "cell_type": "code",
   "execution_count": 51,
   "id": "c16c7092-d121-4a02-92b8-d148b7a19b38",
   "metadata": {},
   "outputs": [],
   "source": [
    "def get_memberId_to_groups(valid_grps,groupjoin) :\n",
    "    memberId_to_groups = {}\n",
    "    for grp in valid_grps :\n",
    "        for member , time in groupjoin[grp] :\n",
    "            if member in  memberId_to_groups :\n",
    "                memberId_to_groups[member].append(grp)\n",
    "            else :\n",
    "                memberId_to_groups[member] = [grp]\n",
    "    return memberId_to_groups\n",
    "    \n",
    "    "
   ]
  },
  {
   "cell_type": "code",
   "execution_count": 54,
   "id": "74773cef-0afe-4424-a6dc-ee317db8da3e",
   "metadata": {},
   "outputs": [],
   "source": [
    "def get_grp_to_memberId_to_attended_events(grp_to_valid_events,groupjoin,ersvp):\n",
    "    grp_to_memberId_to_attended_events = {}\n",
    "    for grp in grp_to_valid_events :\n",
    "        memberId_to_attended_events = {}\n",
    "        for event,_ in grp_to_valid_events[grp] :\n",
    "            for member,time in ersvp[event] :\n",
    "                if member in memberId_to_attended_events :\n",
    "                    memberId_to_attended_events.append(event)\n",
    "                else :\n",
    "                    memberId_to_attended_events = [event]\n",
    "        grp_to_memberId_to_attended_events[grp] = memberId_to_attended_events\n",
    "    return grp_to_memberId_to_attended_events\n",
    "                \n",
    "    \n",
    "    \n",
    "    "
   ]
  },
  {
   "cell_type": "code",
   "execution_count": 55,
   "id": "2cd28a76-376a-4412-a4d6-79944f958917",
   "metadata": {},
   "outputs": [],
   "source": [
    "def get_grp_to_valid_events(valid_grps,new_grp_event,ersvp):\n",
    "    grp_to_valid_events = {}\n",
    "    for i in valid_grps :\n",
    "        for j,_ in new_grp_event[i] :\n",
    "            if j in ersvp :\n",
    "                grp_to_valid_events[i].append(j)\n",
    "    return grp_to_valid_events"
   ]
  },
  {
   "cell_type": "code",
   "execution_count": 57,
   "id": "48e4b5ea-30f0-41bd-815c-379220abbd21",
   "metadata": {},
   "outputs": [],
   "source": [
    "from sklearn.decomposition import NMF"
   ]
  },
  {
   "cell_type": "code",
   "execution_count": 58,
   "id": "a8630494-0dc2-4193-a1d9-b069eee134bc",
   "metadata": {},
   "outputs": [],
   "source": [
    "mat = [[2,3,5,6],[45,89,4,36]]"
   ]
  },
  {
   "cell_type": "code",
   "execution_count": 64,
   "id": "f9347f4c-5840-4b9e-bc4d-e0d3a3062599",
   "metadata": {},
   "outputs": [],
   "source": [
    "model = NMF(n_components =3 )"
   ]
  },
  {
   "cell_type": "code",
   "execution_count": 65,
   "id": "bc5d4264-39e5-4a6d-89ef-87ad73413e68",
   "metadata": {},
   "outputs": [
    {
     "name": "stderr",
     "output_type": "stream",
     "text": [
      "/home/sanket/miniconda3/envs/data_science/lib/python3.7/site-packages/sklearn/decomposition/_nmf.py:315: FutureWarning: The 'init' value, when 'init=None' and n_components is less than n_samples and n_features, will be changed from 'nndsvd' to 'nndsvda' in 1.1 (renaming of 0.26).\n",
      "  \"'nndsvda' in 1.1 (renaming of 0.26).\"), FutureWarning)\n"
     ]
    },
    {
     "data": {
      "text/plain": [
       "NMF(n_components=3)"
      ]
     },
     "execution_count": 65,
     "metadata": {},
     "output_type": "execute_result"
    }
   ],
   "source": [
    "model.fit(mat)"
   ]
  },
  {
   "cell_type": "code",
   "execution_count": 66,
   "id": "6270ed50-757b-4199-8917-9f6a384eb60b",
   "metadata": {},
   "outputs": [],
   "source": [
    "nmf_features = model.transform(mat)"
   ]
  },
  {
   "cell_type": "code",
   "execution_count": 67,
   "id": "cdacbbec-a73f-4b08-a735-1811b44ca429",
   "metadata": {},
   "outputs": [
    {
     "data": {
      "text/plain": [
       "array([[ 0.22759124,  0.73157561,  0.77159923],\n",
       "       [ 8.60254867, 14.46340326,  0.        ]])"
      ]
     },
     "execution_count": 67,
     "metadata": {},
     "output_type": "execute_result"
    }
   ],
   "source": [
    "nmf_features"
   ]
  },
  {
   "cell_type": "code",
   "execution_count": 68,
   "id": "7d7d1abb-3b03-434c-8adb-5e1003251e56",
   "metadata": {},
   "outputs": [
    {
     "data": {
      "text/plain": [
       "array([[1.32996650e+00, 7.40893980e+00, 3.06939420e-03, 2.87414106e+00],\n",
       "       [2.31995587e+00, 1.74713467e+00, 2.74681609e-01, 7.79672477e-01],\n",
       "       [0.00000000e+00, 4.61814381e-02, 6.21817075e+00, 6.18961015e+00]])"
      ]
     },
     "execution_count": 68,
     "metadata": {},
     "output_type": "execute_result"
    }
   ],
   "source": [
    "model.components_"
   ]
  },
  {
   "cell_type": "code",
   "execution_count": null,
   "id": "0bd061e4-99fe-4e5e-b822-c11b6912caea",
   "metadata": {},
   "outputs": [],
   "source": []
  }
 ],
 "metadata": {
  "kernelspec": {
   "display_name": "Python 3 (ipykernel)",
   "language": "python",
   "name": "python3"
  },
  "language_info": {
   "codemirror_mode": {
    "name": "ipython",
    "version": 3
   },
   "file_extension": ".py",
   "mimetype": "text/x-python",
   "name": "python",
   "nbconvert_exporter": "python",
   "pygments_lexer": "ipython3",
   "version": "3.7.11"
  }
 },
 "nbformat": 4,
 "nbformat_minor": 5
}
