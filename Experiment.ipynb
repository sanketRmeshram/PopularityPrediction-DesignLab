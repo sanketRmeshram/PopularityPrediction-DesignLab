{
 "cells": [
  {
   "cell_type": "code",
   "execution_count": 46,
   "id": "38168329-ffee-4822-9a76-9c14bacb195b",
   "metadata": {},
   "outputs": [],
   "source": [
    "import pickle"
   ]
  },
  {
   "cell_type": "code",
   "execution_count": 20,
   "id": "0cd9af99-10a9-4365-bd3a-009456dede88",
   "metadata": {},
   "outputs": [],
   "source": [
    "groupjoin = pickle.load(open(\"data/groupjoin\",\"rb\"))"
   ]
  },
  {
   "cell_type": "code",
   "execution_count": 21,
   "id": "bb6251b7-4a66-43a9-84a2-4ad2fddfef91",
   "metadata": {},
   "outputs": [
    {
     "data": {
      "text/plain": [
       "5952"
      ]
     },
     "execution_count": 21,
     "metadata": {},
     "output_type": "execute_result"
    }
   ],
   "source": [
    "len(groupjoin)"
   ]
  },
  {
   "cell_type": "code",
   "execution_count": 5,
   "id": "ade1f146-9617-4dd8-bae3-7fd8abfe8c6d",
   "metadata": {},
   "outputs": [],
   "source": [
    "import pandas as pd"
   ]
  },
  {
   "cell_type": "code",
   "execution_count": 6,
   "id": "c9ad15b5-a078-400e-a699-d8e8df7ba4a2",
   "metadata": {},
   "outputs": [],
   "source": [
    "groupjoin = pickle.load(open(\"data/groupjoin\",\"rb\"))"
   ]
  },
  {
   "cell_type": "code",
   "execution_count": 7,
   "id": "4925dbda-3a7d-4e9b-a70c-7e5cd8252ab2",
   "metadata": {},
   "outputs": [
    {
     "data": {
      "text/plain": [
       "5952"
      ]
     },
     "execution_count": 7,
     "metadata": {},
     "output_type": "execute_result"
    }
   ],
   "source": [
    "len(groupjoin)"
   ]
  },
  {
   "cell_type": "code",
   "execution_count": 15,
   "id": "8dfbf768-ed37-4f30-ba4c-3acdd3f1e537",
   "metadata": {},
   "outputs": [
    {
     "data": {
      "text/plain": [
       "(1737,\n",
       " [(7467415, 1278656196000),\n",
       "  (10290000, 1278656973000),\n",
       "  (8978228, 1278677405000),\n",
       "  (9041705, 1278681464000),\n",
       "  (11413753, 1278685331000),\n",
       "  (11738963, 1278686299000),\n",
       "  (4323799, 1278688849000),\n",
       "  (6657235, 1278697584000),\n",
       "  (9061588, 1278698802000),\n",
       "  (6008990, 1278699541000)])"
      ]
     },
     "execution_count": 15,
     "metadata": {},
     "output_type": "execute_result"
    }
   ],
   "source": [
    "len(groupjoin[1671174]),groupjoin[1671174][:10]"
   ]
  },
  {
   "cell_type": "code",
   "execution_count": 16,
   "id": "104a4dd8-fb11-4abf-a6ed-69f7fe0a8f51",
   "metadata": {},
   "outputs": [],
   "source": [
    "ersvp = pickle.load(open(\"data/ersvp\",\"rb\"))"
   ]
  },
  {
   "cell_type": "code",
   "execution_count": 19,
   "id": "dbc5fa9d-05ca-4012-a114-e1bf41c03db5",
   "metadata": {},
   "outputs": [
    {
     "data": {
      "text/plain": [
       "(294571,\n",
       " [(7918822, 1397910371000),\n",
       "  (103016352, 1397757003000),\n",
       "  (104586062, 1397918738000)])"
      ]
     },
     "execution_count": 19,
     "metadata": {},
     "output_type": "execute_result"
    }
   ],
   "source": [
    "len(ersvp),ersvp['dlfrldysgbbc']"
   ]
  },
  {
   "cell_type": "code",
   "execution_count": 20,
   "id": "2a53863c-6b93-4739-871b-f058a7b343d7",
   "metadata": {},
   "outputs": [],
   "source": [
    "new_grp_event = pickle.load(open(\"data/new_grp_event\",\"rb\"))"
   ]
  },
  {
   "cell_type": "code",
   "execution_count": 27,
   "id": "75f93b97-9b88-4836-a553-c0a4b27df7fd",
   "metadata": {},
   "outputs": [
    {
     "data": {
      "text/plain": [
       "(5647,\n",
       " 177,\n",
       " [('14013449', 1279029600000),\n",
       "  ('14097177', 1282917600000),\n",
       "  ('14704584', 1292598000000),\n",
       "  ('16638356', 1298484000000),\n",
       "  ('16908526', 1307111400000),\n",
       "  ('24160391', 1310135400000),\n",
       "  ('57096322', 1332608400000),\n",
       "  ('56590142', 1335535200000),\n",
       "  ('62400822', 1338559200000),\n",
       "  ('67315922', 1340978400000)])"
      ]
     },
     "execution_count": 27,
     "metadata": {},
     "output_type": "execute_result"
    }
   ],
   "source": [
    "len(new_grp_event),len(new_grp_event[1671174]),new_grp_event[1671174][:10]"
   ]
  },
  {
   "cell_type": "code",
   "execution_count": 30,
   "id": "8d5f7748-bddc-4c03-bea6-3478801299db",
   "metadata": {},
   "outputs": [],
   "source": [
    "x = []\n",
    "for i in new_grp_event :\n",
    "    if i in groupjoin:\n",
    "        x.append(i)"
   ]
  },
  {
   "cell_type": "code",
   "execution_count": 49,
   "id": "d926b914-8737-4ff0-bfd4-3ef155b2e8ff",
   "metadata": {},
   "outputs": [],
   "source": [
    "def GetValidGrps(new_grp_event,groupjoin) :\n",
    "    return [i for i in new_grp_event if i in groupjoin]\n",
    "            "
   ]
  },
  {
   "cell_type": "code",
   "execution_count": 36,
   "id": "451b3a07-2b75-44db-a1da-ebad960eedf2",
   "metadata": {},
   "outputs": [
    {
     "data": {
      "text/plain": [
       "(5319,\n",
       " [1671174,\n",
       "  1638409,\n",
       "  15859722,\n",
       "  1769484,\n",
       "  18645005,\n",
       "  18448408,\n",
       "  1703963,\n",
       "  20185123,\n",
       "  20447271,\n",
       "  16711722])"
      ]
     },
     "execution_count": 36,
     "metadata": {},
     "output_type": "execute_result"
    }
   ],
   "source": [
    "len(x),x[:10]"
   ]
  },
  {
   "cell_type": "code",
   "execution_count": 50,
   "id": "6f1816b5-a0ed-47cc-b972-d456a291849f",
   "metadata": {},
   "outputs": [
    {
     "data": {
      "text/plain": [
       "5319"
      ]
     },
     "execution_count": 50,
     "metadata": {},
     "output_type": "execute_result"
    }
   ],
   "source": [
    "len(GetValidGrps(new_grp_event,groupjoin))"
   ]
  },
  {
   "cell_type": "code",
   "execution_count": null,
   "id": "7a2fc4c5-ce11-4124-915d-b8d87e4a1b20",
   "metadata": {},
   "outputs": [],
   "source": []
  },
  {
   "cell_type": "code",
   "execution_count": 45,
   "id": "baa12903-913b-4be1-b49f-90d97c7918fb",
   "metadata": {},
   "outputs": [],
   "source": [
    "def make_social_graph_of_grp_members(grp_id,groupjoin,ersvp,new_grp_event) :\n",
    "    member_set = set()\n",
    "    for member,time in groupjoin[grp_id] :\n",
    "        member_set.add(member)\n",
    "    \n",
    "    events_in_grp = []\n",
    "    \n",
    "    for event_id,time in new_grp_event[grp_id] :\n",
    "        if event_id in ersvp:\n",
    "            events_in_grp.append(event_id)\n",
    "    edges = {}\n",
    "    for event_id in events_in_grp :\n",
    "\n",
    "        event_member_set = list(set([member for member,time in ersvp[event_id]  if member in member_set ]))\n",
    "        event_member_set = sorted(event_member_set)\n",
    "        for i in range(len(event_member_set)) :\n",
    "            for j in range(i+1,len(event_member_set)):\n",
    "                if (event_member_set[i],event_member_set[j]) in edges :\n",
    "                    edges[(event_member_set[i],event_member_set[j])]+=1\n",
    "                else :\n",
    "                    edges[(event_member_set[i],event_member_set[j])]=1\n",
    "    return list(member_set),[(i,j,edges[(i,j)]) for i,j in edges]\n",
    "                \n",
    "        \n",
    "        \n",
    "        \n",
    "    \n",
    "    "
   ]
  },
  {
   "cell_type": "code",
   "execution_count": 46,
   "id": "e1c5db7d-a097-4f70-9c10-4c8157b36b85",
   "metadata": {},
   "outputs": [],
   "source": [
    "members,edges =  make_social_graph_of_grp_members(1671174,groupjoin,ersvp,new_grp_event)"
   ]
  },
  {
   "cell_type": "code",
   "execution_count": 47,
   "id": "b708ac03-e640-43a3-afc3-2b303d7f3075",
   "metadata": {},
   "outputs": [
    {
     "data": {
      "text/plain": [
       "((1737,\n",
       "  [4677635,\n",
       "   78503952,\n",
       "   72146962,\n",
       "   211894314,\n",
       "   181026862,\n",
       "   192176181,\n",
       "   190709814,\n",
       "   7921723,\n",
       "   182566981,\n",
       "   209363031]),\n",
       " (55199,\n",
       "  [(5620833, 6657235, 1),\n",
       "   (5620833, 7467415, 1),\n",
       "   (5620833, 8978228, 2),\n",
       "   (5620833, 9041705, 3),\n",
       "   (5620833, 9061588, 1),\n",
       "   (5620833, 9420414, 2),\n",
       "   (5620833, 10290000, 1),\n",
       "   (5620833, 11350459, 2),\n",
       "   (5620833, 11413753, 2),\n",
       "   (5620833, 11738963, 5)]))"
      ]
     },
     "execution_count": 47,
     "metadata": {},
     "output_type": "execute_result"
    }
   ],
   "source": [
    "(len(members),members[:10]),(len(edges),edges[:10])"
   ]
  },
  {
   "cell_type": "code",
   "execution_count": 48,
   "id": "56bc6afd-1907-4fbd-8e0c-e873f2f7e860",
   "metadata": {},
   "outputs": [],
   "source": [
    "def make_member_level_features(grp_id,groupjoin,ersvp,new_grp_event) :\n",
    "    members,edges =  make_social_graph_of_grp_members(grp_id,groupjoin,ersvp,new_grp_event)\n",
    "    adjacency_list = {}\n",
    "    for member in members :\n",
    "        adjacency_list[member] = []\n",
    "    for i,j,w in edges :\n",
    "        adjacency_list[i].append((j,w))\n",
    "        adjacency_list[j].append((i,w))\n",
    "    "
   ]
  },
  {
   "cell_type": "code",
   "execution_count": 51,
   "id": "c16c7092-d121-4a02-92b8-d148b7a19b38",
   "metadata": {},
   "outputs": [],
   "source": [
    "def get_memberId_to_groups(valid_grps,groupjoin) :\n",
    "    memberId_to_groups = {}\n",
    "    for grp in valid_grps :\n",
    "        for member , time in groupjoin[grp] :\n",
    "            if member in  memberId_to_groups :\n",
    "                memberId_to_groups[member].append(grp)\n",
    "            else :\n",
    "                memberId_to_groups[member] = [grp]\n",
    "    return memberId_to_groups\n",
    "    \n",
    "    "
   ]
  },
  {
   "cell_type": "code",
   "execution_count": 54,
   "id": "74773cef-0afe-4424-a6dc-ee317db8da3e",
   "metadata": {},
   "outputs": [],
   "source": [
    "def get_grp_to_memberId_to_attended_events(grp_to_valid_events,groupjoin,ersvp):\n",
    "    grp_to_memberId_to_attended_events = {}\n",
    "    for grp in grp_to_valid_events :\n",
    "        memberId_to_attended_events = {}\n",
    "        for event,_ in grp_to_valid_events[grp] :\n",
    "            for member,time in ersvp[event] :\n",
    "                if member in memberId_to_attended_events :\n",
    "                    memberId_to_attended_events.append(event)\n",
    "                else :\n",
    "                    memberId_to_attended_events = [event]\n",
    "        grp_to_memberId_to_attended_events[grp] = memberId_to_attended_events\n",
    "    return grp_to_memberId_to_attended_events\n",
    "                \n",
    "    \n",
    "    \n",
    "    "
   ]
  },
  {
   "cell_type": "code",
   "execution_count": 55,
   "id": "2cd28a76-376a-4412-a4d6-79944f958917",
   "metadata": {},
   "outputs": [],
   "source": [
    "def get_grp_to_valid_events(valid_grps,new_grp_event,ersvp):\n",
    "    grp_to_valid_events = {}\n",
    "    for i in valid_grps :\n",
    "        for j,_ in new_grp_event[i] :\n",
    "            if j in ersvp :\n",
    "                grp_to_valid_events[i].append(j)\n",
    "    return grp_to_valid_events"
   ]
  },
  {
   "cell_type": "code",
   "execution_count": 57,
   "id": "48e4b5ea-30f0-41bd-815c-379220abbd21",
   "metadata": {},
   "outputs": [],
   "source": [
    "from sklearn.decomposition import NMF"
   ]
  },
  {
   "cell_type": "code",
   "execution_count": 58,
   "id": "a8630494-0dc2-4193-a1d9-b069eee134bc",
   "metadata": {},
   "outputs": [],
   "source": [
    "mat = [[2,3,5,6],[45,89,4,36]]"
   ]
  },
  {
   "cell_type": "code",
   "execution_count": 64,
   "id": "f9347f4c-5840-4b9e-bc4d-e0d3a3062599",
   "metadata": {},
   "outputs": [],
   "source": [
    "model = NMF(n_components =3 )"
   ]
  },
  {
   "cell_type": "code",
   "execution_count": 65,
   "id": "bc5d4264-39e5-4a6d-89ef-87ad73413e68",
   "metadata": {},
   "outputs": [
    {
     "name": "stderr",
     "output_type": "stream",
     "text": [
      "/home/sanket/miniconda3/envs/data_science/lib/python3.7/site-packages/sklearn/decomposition/_nmf.py:315: FutureWarning: The 'init' value, when 'init=None' and n_components is less than n_samples and n_features, will be changed from 'nndsvd' to 'nndsvda' in 1.1 (renaming of 0.26).\n",
      "  \"'nndsvda' in 1.1 (renaming of 0.26).\"), FutureWarning)\n"
     ]
    },
    {
     "data": {
      "text/plain": [
       "NMF(n_components=3)"
      ]
     },
     "execution_count": 65,
     "metadata": {},
     "output_type": "execute_result"
    }
   ],
   "source": [
    "model.fit(mat)"
   ]
  },
  {
   "cell_type": "code",
   "execution_count": 66,
   "id": "6270ed50-757b-4199-8917-9f6a384eb60b",
   "metadata": {},
   "outputs": [],
   "source": [
    "nmf_features = model.transform(mat)"
   ]
  },
  {
   "cell_type": "code",
   "execution_count": 67,
   "id": "cdacbbec-a73f-4b08-a735-1811b44ca429",
   "metadata": {},
   "outputs": [
    {
     "data": {
      "text/plain": [
       "array([[ 0.22759124,  0.73157561,  0.77159923],\n",
       "       [ 8.60254867, 14.46340326,  0.        ]])"
      ]
     },
     "execution_count": 67,
     "metadata": {},
     "output_type": "execute_result"
    }
   ],
   "source": [
    "nmf_features"
   ]
  },
  {
   "cell_type": "code",
   "execution_count": 68,
   "id": "7d7d1abb-3b03-434c-8adb-5e1003251e56",
   "metadata": {},
   "outputs": [
    {
     "data": {
      "text/plain": [
       "array([[1.32996650e+00, 7.40893980e+00, 3.06939420e-03, 2.87414106e+00],\n",
       "       [2.31995587e+00, 1.74713467e+00, 2.74681609e-01, 7.79672477e-01],\n",
       "       [0.00000000e+00, 4.61814381e-02, 6.21817075e+00, 6.18961015e+00]])"
      ]
     },
     "execution_count": 68,
     "metadata": {},
     "output_type": "execute_result"
    }
   ],
   "source": [
    "model.components_"
   ]
  },
  {
   "cell_type": "code",
   "execution_count": 69,
   "id": "0bd061e4-99fe-4e5e-b822-c11b6912caea",
   "metadata": {},
   "outputs": [],
   "source": [
    "import pickle"
   ]
  },
  {
   "cell_type": "code",
   "execution_count": 72,
   "id": "49b888d5-5e27-45b8-acdd-09272132bce1",
   "metadata": {},
   "outputs": [],
   "source": [
    "elat = pickle.load(open(\"data/elat\",\"rb\"))\n",
    "elon = pickle.load(open(\"data/elon\",\"rb\"))"
   ]
  },
  {
   "cell_type": "code",
   "execution_count": 73,
   "id": "5ecfecc3-da03-461b-b4c8-f36321061148",
   "metadata": {},
   "outputs": [
    {
     "data": {
      "text/plain": [
       "(458087, 458087)"
      ]
     },
     "execution_count": 73,
     "metadata": {},
     "output_type": "execute_result"
    }
   ],
   "source": [
    "len(elat),len(elon)"
   ]
  },
  {
   "cell_type": "code",
   "execution_count": 75,
   "id": "2cc1ba6b-bcda-4d38-a722-9b5614c81a35",
   "metadata": {},
   "outputs": [
    {
     "data": {
      "text/plain": [
       "['dvlgvlywjbxb',\n",
       " 'dlfrldysgbbc',\n",
       " 'hrkzllyvfbjc',\n",
       " '170374282',\n",
       " '228592712',\n",
       " 'njvctlyvlbhc',\n",
       " 'dpqbgcyrnbqb',\n",
       " 'dxzpffywjbfc',\n",
       " 'dlzvbfyrcbtb',\n",
       " '161926702']"
      ]
     },
     "execution_count": 75,
     "metadata": {},
     "output_type": "execute_result"
    }
   ],
   "source": [
    "list(elat.keys())[:10]"
   ]
  },
  {
   "cell_type": "code",
   "execution_count": 77,
   "id": "c34b8439-13e9-47fc-bc9b-58bc53a6ce98",
   "metadata": {},
   "outputs": [
    {
     "data": {
      "text/plain": [
       "(41.908699, -87.6819)"
      ]
     },
     "execution_count": 77,
     "metadata": {},
     "output_type": "execute_result"
    }
   ],
   "source": [
    "elat['dvlgvlywjbxb'],elon['dvlgvlywjbxb']"
   ]
  },
  {
   "cell_type": "code",
   "execution_count": 78,
   "id": "13e8291c-8997-4d96-8117-dc3f7f1e4543",
   "metadata": {},
   "outputs": [],
   "source": [
    "from pathlib import Path"
   ]
  },
  {
   "cell_type": "code",
   "execution_count": 100,
   "id": "ea3f356b-3158-4cc9-8f84-7327ed8f3860",
   "metadata": {},
   "outputs": [
    {
     "data": {
      "text/plain": [
       "5320"
      ]
     },
     "execution_count": 100,
     "metadata": {},
     "output_type": "execute_result"
    }
   ],
   "source": [
    "len([str(x).split('/')[-1].split('.')[0] for x in Path(\"member_level_features\").iterdir()])"
   ]
  },
  {
   "cell_type": "code",
   "execution_count": 88,
   "id": "e086ac03-c238-4807-ac60-7df16fe55dce",
   "metadata": {},
   "outputs": [
    {
     "data": {
      "text/plain": [
       "[PosixPath('member_level_features/1671174.csv'),\n",
       " PosixPath('member_level_features/1638409.csv'),\n",
       " PosixPath('member_level_features/15859722.csv'),\n",
       " PosixPath('member_level_features/1769484.csv'),\n",
       " PosixPath('member_level_features/18645005.csv'),\n",
       " PosixPath('member_level_features/18448408.csv'),\n",
       " PosixPath('member_level_features/1703963.csv'),\n",
       " PosixPath('member_level_features/20185123.csv'),\n",
       " PosixPath('member_level_features/20447271.csv'),\n",
       " PosixPath('member_level_features/16711722.csv')]"
      ]
     },
     "execution_count": 88,
     "metadata": {},
     "output_type": "execute_result"
    }
   ],
   "source": [
    "[x for x in Path(\"member_level_features\").iterdir()][:10]"
   ]
  },
  {
   "cell_type": "code",
   "execution_count": 89,
   "id": "869490df-b8a0-4a93-a751-64031deae32d",
   "metadata": {},
   "outputs": [],
   "source": [
    "df = pd.read_csv(\"member_level_features/1671174.csv\")"
   ]
  },
  {
   "cell_type": "code",
   "execution_count": 90,
   "id": "67cb0fc0-c159-4196-ab66-1a5e83300df5",
   "metadata": {},
   "outputs": [
    {
     "data": {
      "text/html": [
       "<div>\n",
       "<style scoped>\n",
       "    .dataframe tbody tr th:only-of-type {\n",
       "        vertical-align: middle;\n",
       "    }\n",
       "\n",
       "    .dataframe tbody tr th {\n",
       "        vertical-align: top;\n",
       "    }\n",
       "\n",
       "    .dataframe thead th {\n",
       "        text-align: right;\n",
       "    }\n",
       "</style>\n",
       "<table border=\"1\" class=\"dataframe\">\n",
       "  <thead>\n",
       "    <tr style=\"text-align: right;\">\n",
       "      <th></th>\n",
       "      <th>member</th>\n",
       "      <th>group_id</th>\n",
       "      <th>m1</th>\n",
       "      <th>m2</th>\n",
       "      <th>m3</th>\n",
       "      <th>m4</th>\n",
       "      <th>m5</th>\n",
       "      <th>m6</th>\n",
       "      <th>m7</th>\n",
       "      <th>m8</th>\n",
       "      <th>m9</th>\n",
       "      <th>m10</th>\n",
       "      <th>m11</th>\n",
       "      <th>m12</th>\n",
       "    </tr>\n",
       "  </thead>\n",
       "  <tbody>\n",
       "    <tr>\n",
       "      <th>0</th>\n",
       "      <td>4677635</td>\n",
       "      <td>1671174</td>\n",
       "      <td>72</td>\n",
       "      <td>1</td>\n",
       "      <td>13</td>\n",
       "      <td>0.918296</td>\n",
       "      <td>3.700440</td>\n",
       "      <td>1.584963</td>\n",
       "      <td>374.916667</td>\n",
       "      <td>33.944444</td>\n",
       "      <td>13.013889</td>\n",
       "      <td>1.724832</td>\n",
       "      <td>2.668147</td>\n",
       "      <td>2.092105</td>\n",
       "    </tr>\n",
       "    <tr>\n",
       "      <th>1</th>\n",
       "      <td>78503952</td>\n",
       "      <td>1671174</td>\n",
       "      <td>0</td>\n",
       "      <td>0</td>\n",
       "      <td>23</td>\n",
       "      <td>0.000000</td>\n",
       "      <td>4.175736</td>\n",
       "      <td>0.000000</td>\n",
       "      <td>0.000000</td>\n",
       "      <td>0.000000</td>\n",
       "      <td>0.000000</td>\n",
       "      <td>0.000000</td>\n",
       "      <td>0.000000</td>\n",
       "      <td>0.000000</td>\n",
       "    </tr>\n",
       "    <tr>\n",
       "      <th>2</th>\n",
       "      <td>72146962</td>\n",
       "      <td>1671174</td>\n",
       "      <td>0</td>\n",
       "      <td>0</td>\n",
       "      <td>11</td>\n",
       "      <td>1.000000</td>\n",
       "      <td>3.459432</td>\n",
       "      <td>1.000000</td>\n",
       "      <td>0.000000</td>\n",
       "      <td>0.000000</td>\n",
       "      <td>0.000000</td>\n",
       "      <td>0.000000</td>\n",
       "      <td>0.000000</td>\n",
       "      <td>0.000000</td>\n",
       "    </tr>\n",
       "    <tr>\n",
       "      <th>3</th>\n",
       "      <td>211894314</td>\n",
       "      <td>1671174</td>\n",
       "      <td>0</td>\n",
       "      <td>0</td>\n",
       "      <td>1</td>\n",
       "      <td>0.000000</td>\n",
       "      <td>0.000000</td>\n",
       "      <td>0.000000</td>\n",
       "      <td>0.000000</td>\n",
       "      <td>0.000000</td>\n",
       "      <td>0.000000</td>\n",
       "      <td>0.000000</td>\n",
       "      <td>0.000000</td>\n",
       "      <td>0.000000</td>\n",
       "    </tr>\n",
       "    <tr>\n",
       "      <th>4</th>\n",
       "      <td>181026862</td>\n",
       "      <td>1671174</td>\n",
       "      <td>0</td>\n",
       "      <td>0</td>\n",
       "      <td>6</td>\n",
       "      <td>1.000000</td>\n",
       "      <td>2.584963</td>\n",
       "      <td>1.000000</td>\n",
       "      <td>0.000000</td>\n",
       "      <td>0.000000</td>\n",
       "      <td>0.000000</td>\n",
       "      <td>0.000000</td>\n",
       "      <td>0.000000</td>\n",
       "      <td>0.000000</td>\n",
       "    </tr>\n",
       "    <tr>\n",
       "      <th>...</th>\n",
       "      <td>...</td>\n",
       "      <td>...</td>\n",
       "      <td>...</td>\n",
       "      <td>...</td>\n",
       "      <td>...</td>\n",
       "      <td>...</td>\n",
       "      <td>...</td>\n",
       "      <td>...</td>\n",
       "      <td>...</td>\n",
       "      <td>...</td>\n",
       "      <td>...</td>\n",
       "      <td>...</td>\n",
       "      <td>...</td>\n",
       "      <td>...</td>\n",
       "    </tr>\n",
       "    <tr>\n",
       "      <th>1732</th>\n",
       "      <td>15802341</td>\n",
       "      <td>1671174</td>\n",
       "      <td>60</td>\n",
       "      <td>1</td>\n",
       "      <td>3</td>\n",
       "      <td>0.000000</td>\n",
       "      <td>1.584963</td>\n",
       "      <td>0.000000</td>\n",
       "      <td>388.300000</td>\n",
       "      <td>38.966667</td>\n",
       "      <td>10.266667</td>\n",
       "      <td>1.659389</td>\n",
       "      <td>2.472409</td>\n",
       "      <td>2.008393</td>\n",
       "    </tr>\n",
       "    <tr>\n",
       "      <th>1733</th>\n",
       "      <td>134496232</td>\n",
       "      <td>1671174</td>\n",
       "      <td>81</td>\n",
       "      <td>1</td>\n",
       "      <td>2</td>\n",
       "      <td>0.000000</td>\n",
       "      <td>1.000000</td>\n",
       "      <td>0.000000</td>\n",
       "      <td>338.407407</td>\n",
       "      <td>28.444444</td>\n",
       "      <td>14.123457</td>\n",
       "      <td>1.566956</td>\n",
       "      <td>2.668083</td>\n",
       "      <td>2.028720</td>\n",
       "    </tr>\n",
       "    <tr>\n",
       "      <th>1734</th>\n",
       "      <td>201498614</td>\n",
       "      <td>1671174</td>\n",
       "      <td>0</td>\n",
       "      <td>0</td>\n",
       "      <td>1</td>\n",
       "      <td>0.000000</td>\n",
       "      <td>0.000000</td>\n",
       "      <td>0.000000</td>\n",
       "      <td>0.000000</td>\n",
       "      <td>0.000000</td>\n",
       "      <td>0.000000</td>\n",
       "      <td>0.000000</td>\n",
       "      <td>0.000000</td>\n",
       "      <td>0.000000</td>\n",
       "    </tr>\n",
       "    <tr>\n",
       "      <th>1735</th>\n",
       "      <td>62038012</td>\n",
       "      <td>1671174</td>\n",
       "      <td>0</td>\n",
       "      <td>0</td>\n",
       "      <td>1</td>\n",
       "      <td>0.000000</td>\n",
       "      <td>0.000000</td>\n",
       "      <td>0.000000</td>\n",
       "      <td>0.000000</td>\n",
       "      <td>0.000000</td>\n",
       "      <td>0.000000</td>\n",
       "      <td>0.000000</td>\n",
       "      <td>0.000000</td>\n",
       "      <td>0.000000</td>\n",
       "    </tr>\n",
       "    <tr>\n",
       "      <th>1736</th>\n",
       "      <td>11730941</td>\n",
       "      <td>1671174</td>\n",
       "      <td>0</td>\n",
       "      <td>0</td>\n",
       "      <td>1</td>\n",
       "      <td>0.000000</td>\n",
       "      <td>0.000000</td>\n",
       "      <td>0.000000</td>\n",
       "      <td>0.000000</td>\n",
       "      <td>0.000000</td>\n",
       "      <td>0.000000</td>\n",
       "      <td>0.000000</td>\n",
       "      <td>0.000000</td>\n",
       "      <td>0.000000</td>\n",
       "    </tr>\n",
       "  </tbody>\n",
       "</table>\n",
       "<p>1737 rows × 14 columns</p>\n",
       "</div>"
      ],
      "text/plain": [
       "         member  group_id  m1  m2  m3        m4        m5        m6  \\\n",
       "0       4677635   1671174  72   1  13  0.918296  3.700440  1.584963   \n",
       "1      78503952   1671174   0   0  23  0.000000  4.175736  0.000000   \n",
       "2      72146962   1671174   0   0  11  1.000000  3.459432  1.000000   \n",
       "3     211894314   1671174   0   0   1  0.000000  0.000000  0.000000   \n",
       "4     181026862   1671174   0   0   6  1.000000  2.584963  1.000000   \n",
       "...         ...       ...  ..  ..  ..       ...       ...       ...   \n",
       "1732   15802341   1671174  60   1   3  0.000000  1.584963  0.000000   \n",
       "1733  134496232   1671174  81   1   2  0.000000  1.000000  0.000000   \n",
       "1734  201498614   1671174   0   0   1  0.000000  0.000000  0.000000   \n",
       "1735   62038012   1671174   0   0   1  0.000000  0.000000  0.000000   \n",
       "1736   11730941   1671174   0   0   1  0.000000  0.000000  0.000000   \n",
       "\n",
       "              m7         m8         m9       m10       m11       m12  \n",
       "0     374.916667  33.944444  13.013889  1.724832  2.668147  2.092105  \n",
       "1       0.000000   0.000000   0.000000  0.000000  0.000000  0.000000  \n",
       "2       0.000000   0.000000   0.000000  0.000000  0.000000  0.000000  \n",
       "3       0.000000   0.000000   0.000000  0.000000  0.000000  0.000000  \n",
       "4       0.000000   0.000000   0.000000  0.000000  0.000000  0.000000  \n",
       "...          ...        ...        ...       ...       ...       ...  \n",
       "1732  388.300000  38.966667  10.266667  1.659389  2.472409  2.008393  \n",
       "1733  338.407407  28.444444  14.123457  1.566956  2.668083  2.028720  \n",
       "1734    0.000000   0.000000   0.000000  0.000000  0.000000  0.000000  \n",
       "1735    0.000000   0.000000   0.000000  0.000000  0.000000  0.000000  \n",
       "1736    0.000000   0.000000   0.000000  0.000000  0.000000  0.000000  \n",
       "\n",
       "[1737 rows x 14 columns]"
      ]
     },
     "execution_count": 90,
     "metadata": {},
     "output_type": "execute_result"
    }
   ],
   "source": [
    "df"
   ]
  },
  {
   "cell_type": "code",
   "execution_count": 91,
   "id": "c92be34d-e998-48f3-9096-4d177ffce7f0",
   "metadata": {},
   "outputs": [],
   "source": [
    "x = {}"
   ]
  },
  {
   "cell_type": "code",
   "execution_count": 92,
   "id": "72cdd514-7b53-4eca-9c87-dc8d2f6ffa32",
   "metadata": {},
   "outputs": [],
   "source": [
    "x[(45,89)] =456"
   ]
  },
  {
   "cell_type": "code",
   "execution_count": 93,
   "id": "c8349a6e-c946-4203-bd56-4884b2f60a18",
   "metadata": {},
   "outputs": [],
   "source": [
    "x[(1,-1)] =12"
   ]
  },
  {
   "cell_type": "code",
   "execution_count": 95,
   "id": "c8b34cb8-4ab5-4a92-b6a0-55181d185f95",
   "metadata": {},
   "outputs": [
    {
     "ename": "KeyError",
     "evalue": "(1, 0)",
     "output_type": "error",
     "traceback": [
      "\u001b[0;31m---------------------------------------------------------------------------\u001b[0m",
      "\u001b[0;31mKeyError\u001b[0m                                  Traceback (most recent call last)",
      "\u001b[0;32m/tmp/ipykernel_27948/1746799476.py\u001b[0m in \u001b[0;36m<module>\u001b[0;34m\u001b[0m\n\u001b[0;32m----> 1\u001b[0;31m \u001b[0mx\u001b[0m\u001b[0;34m[\u001b[0m\u001b[0;34m(\u001b[0m\u001b[0;36m1\u001b[0m\u001b[0;34m,\u001b[0m\u001b[0;34m-\u001b[0m\u001b[0;36m0\u001b[0m\u001b[0;34m)\u001b[0m\u001b[0;34m]\u001b[0m\u001b[0;34m\u001b[0m\u001b[0;34m\u001b[0m\u001b[0m\n\u001b[0m",
      "\u001b[0;31mKeyError\u001b[0m: (1, 0)"
     ]
    }
   ],
   "source": [
    "x[(1,-0)]"
   ]
  },
  {
   "cell_type": "code",
   "execution_count": 96,
   "id": "4ede3505-73cf-45d6-8775-d1d42e15e2a7",
   "metadata": {},
   "outputs": [],
   "source": [
    "groupjoin = pickle.load(open(\"data/groupjoin\",\"rb\"))\n",
    "new_grp_event = pickle.load(open(\"data/new_grp_event\",\"rb\"))\n",
    "ersvp = pickle.load(open(\"data/ersvp\",\"rb\"))"
   ]
  },
  {
   "cell_type": "code",
   "execution_count": 97,
   "id": "9d955700-81f9-4b79-808b-5a3a2eb18412",
   "metadata": {},
   "outputs": [
    {
     "data": {
      "text/plain": [
       "5952"
      ]
     },
     "execution_count": 97,
     "metadata": {},
     "output_type": "execute_result"
    }
   ],
   "source": [
    "len(groupjoin)"
   ]
  },
  {
   "cell_type": "code",
   "execution_count": 98,
   "id": "977b21f7-d83e-4b20-a766-4b7e994a02be",
   "metadata": {},
   "outputs": [
    {
     "data": {
      "text/plain": [
       "5647"
      ]
     },
     "execution_count": 98,
     "metadata": {},
     "output_type": "execute_result"
    }
   ],
   "source": [
    "len(new_grp_event)"
   ]
  },
  {
   "cell_type": "code",
   "execution_count": 99,
   "id": "30224f84-ef97-40a5-b201-11fb9d00d4c8",
   "metadata": {},
   "outputs": [
    {
     "data": {
      "text/plain": [
       "294571"
      ]
     },
     "execution_count": 99,
     "metadata": {},
     "output_type": "execute_result"
    }
   ],
   "source": [
    "len(ersvp)"
   ]
  },
  {
   "cell_type": "code",
   "execution_count": 1,
   "id": "e5452937-b3d9-42ff-85b0-473751a138bb",
   "metadata": {},
   "outputs": [],
   "source": [
    "from pathlib import Path\n",
    "y= [x for x in Path(\"group_level_features\").iterdir()]"
   ]
  },
  {
   "cell_type": "code",
   "execution_count": 2,
   "id": "791fe782-e964-4a2f-bbef-54538b9733c8",
   "metadata": {},
   "outputs": [
    {
     "data": {
      "text/plain": [
       "2135"
      ]
     },
     "execution_count": 2,
     "metadata": {},
     "output_type": "execute_result"
    }
   ],
   "source": [
    "len(y)"
   ]
  },
  {
   "cell_type": "code",
   "execution_count": 4,
   "id": "5aab1d0a-45fd-4f52-85cc-ae8eef6d1672",
   "metadata": {},
   "outputs": [],
   "source": [
    "import torch"
   ]
  },
  {
   "cell_type": "code",
   "execution_count": 5,
   "id": "c31d1390-84e0-4f3e-b68d-623e07eee819",
   "metadata": {},
   "outputs": [
    {
     "name": "stdout",
     "output_type": "stream",
     "text": [
      "1.9.0\n"
     ]
    }
   ],
   "source": [
    "print(torch.__version__)"
   ]
  },
  {
   "cell_type": "code",
   "execution_count": 6,
   "id": "f6e9d3cd-3ec8-470d-9cc3-58eeeda4129a",
   "metadata": {},
   "outputs": [],
   "source": [
    "a = torch.full((2,3),45)"
   ]
  },
  {
   "cell_type": "code",
   "execution_count": 7,
   "id": "d1261048-b98c-4100-bdc1-2473ce4fd2f5",
   "metadata": {},
   "outputs": [
    {
     "data": {
      "text/plain": [
       "tensor([[45, 45, 45],\n",
       "        [45, 45, 45]])"
      ]
     },
     "execution_count": 7,
     "metadata": {},
     "output_type": "execute_result"
    }
   ],
   "source": [
    "a"
   ]
  },
  {
   "cell_type": "code",
   "execution_count": 13,
   "id": "4aeaf897-c170-4a86-aa71-d288c85af0c2",
   "metadata": {},
   "outputs": [],
   "source": [
    "b= torch.full((10,3),-1)"
   ]
  },
  {
   "cell_type": "code",
   "execution_count": 14,
   "id": "3ad7c19c-9c66-490b-bc43-db541410d624",
   "metadata": {},
   "outputs": [
    {
     "data": {
      "text/plain": [
       "tensor([[45, 45, 45],\n",
       "        [45, 45, 45],\n",
       "        [-1, -1, -1],\n",
       "        [-1, -1, -1],\n",
       "        [-1, -1, -1],\n",
       "        [-1, -1, -1],\n",
       "        [-1, -1, -1],\n",
       "        [-1, -1, -1],\n",
       "        [-1, -1, -1],\n",
       "        [-1, -1, -1],\n",
       "        [-1, -1, -1],\n",
       "        [-1, -1, -1]])"
      ]
     },
     "execution_count": 14,
     "metadata": {},
     "output_type": "execute_result"
    }
   ],
   "source": [
    "torch.cat((a,b))"
   ]
  },
  {
   "cell_type": "code",
   "execution_count": 23,
   "id": "64e4a237-9c07-4108-8092-76af2f5897ed",
   "metadata": {},
   "outputs": [
    {
     "data": {
      "text/plain": [
       "(tensor(3.), tensor(4., requires_grad=True), tensor(5., requires_grad=True))"
      ]
     },
     "execution_count": 23,
     "metadata": {},
     "output_type": "execute_result"
    }
   ],
   "source": [
    "# Create tensors.\n",
    "x = torch.tensor(3.)\n",
    "w = torch.tensor(4., requires_grad=True)\n",
    "b = torch.tensor(5., requires_grad=True)\n",
    "x, w, b"
   ]
  },
  {
   "cell_type": "code",
   "execution_count": 27,
   "id": "1abf25b7-4062-4086-9ae9-fb05600482e5",
   "metadata": {},
   "outputs": [
    {
     "data": {
      "text/plain": [
       "tensor(17., grad_fn=<AddBackward0>)"
      ]
     },
     "execution_count": 27,
     "metadata": {},
     "output_type": "execute_result"
    }
   ],
   "source": [
    "# Arithmetic operations\n",
    "y = w * x + b\n",
    "y"
   ]
  },
  {
   "cell_type": "code",
   "execution_count": 30,
   "id": "946161dd-308f-4396-84cd-9c353b2a920c",
   "metadata": {},
   "outputs": [],
   "source": [
    "# Compute derivatives\n",
    "y.backward()"
   ]
  },
  {
   "cell_type": "code",
   "execution_count": 31,
   "id": "2658668c-efea-4541-8b71-b9b1604d527f",
   "metadata": {},
   "outputs": [
    {
     "name": "stdout",
     "output_type": "stream",
     "text": [
      "dy/dx: None\n",
      "dy/dw: tensor(3.)\n",
      "dy/db: tensor(1.)\n"
     ]
    }
   ],
   "source": [
    "# Display gradients\n",
    "print('dy/dx:', x.grad)\n",
    "print('dy/dw:', w.grad)\n",
    "print('dy/db:', b.grad)"
   ]
  },
  {
   "cell_type": "code",
   "execution_count": 28,
   "id": "26650ace-23c6-4c20-9e5a-3b8d5cfce974",
   "metadata": {},
   "outputs": [
    {
     "data": {
      "text/plain": [
       "tensor(27., grad_fn=<AddBackward0>)"
      ]
     },
     "execution_count": 28,
     "metadata": {},
     "output_type": "execute_result"
    }
   ],
   "source": [
    "y = w*x+b+10\n",
    "y"
   ]
  },
  {
   "cell_type": "code",
   "execution_count": 43,
   "id": "07ba977a-0d53-472c-a0af-fddd3005e9e0",
   "metadata": {},
   "outputs": [
    {
     "ename": "TypeError",
     "evalue": "full() received an invalid combination of arguments - got (tuple, Tensor), but expected one of:\n * (tuple of ints size, Number fill_value, *, Tensor out, torch.dtype dtype, torch.layout layout, torch.device device, bool pin_memory, bool requires_grad)\n * (tuple of ints size, Number fill_value, *, tuple of names names, torch.dtype dtype, torch.layout layout, torch.device device, bool pin_memory, bool requires_grad)\n",
     "output_type": "error",
     "traceback": [
      "\u001b[0;31m---------------------------------------------------------------------------\u001b[0m",
      "\u001b[0;31mTypeError\u001b[0m                                 Traceback (most recent call last)",
      "\u001b[0;32m/tmp/ipykernel_127091/1963184178.py\u001b[0m in \u001b[0;36m<module>\u001b[0;34m\u001b[0m\n\u001b[1;32m      1\u001b[0m \u001b[0mn\u001b[0m \u001b[0;34m=\u001b[0m \u001b[0;36m5\u001b[0m\u001b[0;34m\u001b[0m\u001b[0;34m\u001b[0m\u001b[0m\n\u001b[0;32m----> 2\u001b[0;31m \u001b[0mx\u001b[0m \u001b[0;34m=\u001b[0m \u001b[0mtorch\u001b[0m\u001b[0;34m.\u001b[0m\u001b[0mfull\u001b[0m\u001b[0;34m(\u001b[0m\u001b[0;34m(\u001b[0m\u001b[0mn\u001b[0m\u001b[0;34m,\u001b[0m\u001b[0;36m1\u001b[0m\u001b[0;34m)\u001b[0m\u001b[0;34m,\u001b[0m\u001b[0mtorch\u001b[0m\u001b[0;34m.\u001b[0m\u001b[0mtensor\u001b[0m\u001b[0;34m(\u001b[0m\u001b[0;36m3.\u001b[0m\u001b[0;34m,\u001b[0m\u001b[0mrequires_grad\u001b[0m\u001b[0;34m=\u001b[0m\u001b[0;32mTrue\u001b[0m\u001b[0;34m)\u001b[0m\u001b[0;34m)\u001b[0m\u001b[0;34m\u001b[0m\u001b[0;34m\u001b[0m\u001b[0m\n\u001b[0m\u001b[1;32m      3\u001b[0m \u001b[0mx\u001b[0m\u001b[0;34m.\u001b[0m\u001b[0mrequires_grad_\u001b[0m\u001b[0;34m(\u001b[0m\u001b[0;32mTrue\u001b[0m\u001b[0;34m)\u001b[0m\u001b[0;34m\u001b[0m\u001b[0;34m\u001b[0m\u001b[0m\n\u001b[1;32m      4\u001b[0m \u001b[0mw\u001b[0m \u001b[0;34m=\u001b[0m \u001b[0mtorch\u001b[0m\u001b[0;34m.\u001b[0m\u001b[0mfull\u001b[0m\u001b[0;34m(\u001b[0m\u001b[0;34m(\u001b[0m\u001b[0mn\u001b[0m\u001b[0;34m,\u001b[0m\u001b[0mn\u001b[0m\u001b[0;34m)\u001b[0m\u001b[0;34m,\u001b[0m\u001b[0;36m1.\u001b[0m\u001b[0;34m)\u001b[0m\u001b[0;34m\u001b[0m\u001b[0;34m\u001b[0m\u001b[0m\n\u001b[1;32m      5\u001b[0m \u001b[0mb\u001b[0m \u001b[0;34m=\u001b[0m \u001b[0mtorch\u001b[0m\u001b[0;34m.\u001b[0m\u001b[0mfull\u001b[0m\u001b[0;34m(\u001b[0m\u001b[0;34m(\u001b[0m\u001b[0mn\u001b[0m\u001b[0;34m,\u001b[0m\u001b[0;36m1\u001b[0m\u001b[0;34m)\u001b[0m\u001b[0;34m,\u001b[0m\u001b[0;36m20.\u001b[0m\u001b[0;34m)\u001b[0m\u001b[0;34m\u001b[0m\u001b[0;34m\u001b[0m\u001b[0m\n",
      "\u001b[0;31mTypeError\u001b[0m: full() received an invalid combination of arguments - got (tuple, Tensor), but expected one of:\n * (tuple of ints size, Number fill_value, *, Tensor out, torch.dtype dtype, torch.layout layout, torch.device device, bool pin_memory, bool requires_grad)\n * (tuple of ints size, Number fill_value, *, tuple of names names, torch.dtype dtype, torch.layout layout, torch.device device, bool pin_memory, bool requires_grad)\n"
     ]
    }
   ],
   "source": [
    "n = 5\n",
    "x = torch.full((n,1),torch.tensor(3.,requires_grad=True))\n",
    "x.requires_grad_(True)\n",
    "w = torch.full((n,n),1.)\n",
    "b = torch.full((n,1),20.)"
   ]
  },
  {
   "cell_type": "code",
   "execution_count": 41,
   "id": "33ae62b0-1d5f-4689-afde-a26d1d9f2e05",
   "metadata": {},
   "outputs": [],
   "source": [
    "y= w*x+b"
   ]
  },
  {
   "cell_type": "code",
   "execution_count": 38,
   "id": "e1c9799d-f6ff-4bd4-8840-d8be00e904c0",
   "metadata": {},
   "outputs": [
    {
     "name": "stdout",
     "output_type": "stream",
     "text": [
      "dy/dx: None\n",
      "dy/dw: None\n",
      "dy/db: None\n"
     ]
    }
   ],
   "source": [
    "print('dy/dx:', x.grad)\n",
    "print('dy/dw:', w.grad)\n",
    "print('dy/db:', b.grad)"
   ]
  },
  {
   "cell_type": "code",
   "execution_count": 42,
   "id": "f241e658-aa26-41d1-b171-eb72b8cdef68",
   "metadata": {},
   "outputs": [
    {
     "ename": "RuntimeError",
     "evalue": "grad can be implicitly created only for scalar outputs",
     "output_type": "error",
     "traceback": [
      "\u001b[0;31m---------------------------------------------------------------------------\u001b[0m",
      "\u001b[0;31mRuntimeError\u001b[0m                              Traceback (most recent call last)",
      "\u001b[0;32m/tmp/ipykernel_127091/1055444503.py\u001b[0m in \u001b[0;36m<module>\u001b[0;34m\u001b[0m\n\u001b[0;32m----> 1\u001b[0;31m \u001b[0my\u001b[0m\u001b[0;34m.\u001b[0m\u001b[0mbackward\u001b[0m\u001b[0;34m(\u001b[0m\u001b[0;34m)\u001b[0m\u001b[0;34m\u001b[0m\u001b[0;34m\u001b[0m\u001b[0m\n\u001b[0m",
      "\u001b[0;32m~/miniconda3/envs/data_science/lib/python3.7/site-packages/torch/_tensor.py\u001b[0m in \u001b[0;36mbackward\u001b[0;34m(self, gradient, retain_graph, create_graph, inputs)\u001b[0m\n\u001b[1;32m    253\u001b[0m                 \u001b[0mcreate_graph\u001b[0m\u001b[0;34m=\u001b[0m\u001b[0mcreate_graph\u001b[0m\u001b[0;34m,\u001b[0m\u001b[0;34m\u001b[0m\u001b[0;34m\u001b[0m\u001b[0m\n\u001b[1;32m    254\u001b[0m                 inputs=inputs)\n\u001b[0;32m--> 255\u001b[0;31m         \u001b[0mtorch\u001b[0m\u001b[0;34m.\u001b[0m\u001b[0mautograd\u001b[0m\u001b[0;34m.\u001b[0m\u001b[0mbackward\u001b[0m\u001b[0;34m(\u001b[0m\u001b[0mself\u001b[0m\u001b[0;34m,\u001b[0m \u001b[0mgradient\u001b[0m\u001b[0;34m,\u001b[0m \u001b[0mretain_graph\u001b[0m\u001b[0;34m,\u001b[0m \u001b[0mcreate_graph\u001b[0m\u001b[0;34m,\u001b[0m \u001b[0minputs\u001b[0m\u001b[0;34m=\u001b[0m\u001b[0minputs\u001b[0m\u001b[0;34m)\u001b[0m\u001b[0;34m\u001b[0m\u001b[0;34m\u001b[0m\u001b[0m\n\u001b[0m\u001b[1;32m    256\u001b[0m \u001b[0;34m\u001b[0m\u001b[0m\n\u001b[1;32m    257\u001b[0m     \u001b[0;32mdef\u001b[0m \u001b[0mregister_hook\u001b[0m\u001b[0;34m(\u001b[0m\u001b[0mself\u001b[0m\u001b[0;34m,\u001b[0m \u001b[0mhook\u001b[0m\u001b[0;34m)\u001b[0m\u001b[0;34m:\u001b[0m\u001b[0;34m\u001b[0m\u001b[0;34m\u001b[0m\u001b[0m\n",
      "\u001b[0;32m~/miniconda3/envs/data_science/lib/python3.7/site-packages/torch/autograd/__init__.py\u001b[0m in \u001b[0;36mbackward\u001b[0;34m(tensors, grad_tensors, retain_graph, create_graph, grad_variables, inputs)\u001b[0m\n\u001b[1;32m    141\u001b[0m \u001b[0;34m\u001b[0m\u001b[0m\n\u001b[1;32m    142\u001b[0m     \u001b[0mgrad_tensors_\u001b[0m \u001b[0;34m=\u001b[0m \u001b[0m_tensor_or_tensors_to_tuple\u001b[0m\u001b[0;34m(\u001b[0m\u001b[0mgrad_tensors\u001b[0m\u001b[0;34m,\u001b[0m \u001b[0mlen\u001b[0m\u001b[0;34m(\u001b[0m\u001b[0mtensors\u001b[0m\u001b[0;34m)\u001b[0m\u001b[0;34m)\u001b[0m\u001b[0;34m\u001b[0m\u001b[0;34m\u001b[0m\u001b[0m\n\u001b[0;32m--> 143\u001b[0;31m     \u001b[0mgrad_tensors_\u001b[0m \u001b[0;34m=\u001b[0m \u001b[0m_make_grads\u001b[0m\u001b[0;34m(\u001b[0m\u001b[0mtensors\u001b[0m\u001b[0;34m,\u001b[0m \u001b[0mgrad_tensors_\u001b[0m\u001b[0;34m)\u001b[0m\u001b[0;34m\u001b[0m\u001b[0;34m\u001b[0m\u001b[0m\n\u001b[0m\u001b[1;32m    144\u001b[0m     \u001b[0;32mif\u001b[0m \u001b[0mretain_graph\u001b[0m \u001b[0;32mis\u001b[0m \u001b[0;32mNone\u001b[0m\u001b[0;34m:\u001b[0m\u001b[0;34m\u001b[0m\u001b[0;34m\u001b[0m\u001b[0m\n\u001b[1;32m    145\u001b[0m         \u001b[0mretain_graph\u001b[0m \u001b[0;34m=\u001b[0m \u001b[0mcreate_graph\u001b[0m\u001b[0;34m\u001b[0m\u001b[0;34m\u001b[0m\u001b[0m\n",
      "\u001b[0;32m~/miniconda3/envs/data_science/lib/python3.7/site-packages/torch/autograd/__init__.py\u001b[0m in \u001b[0;36m_make_grads\u001b[0;34m(outputs, grads)\u001b[0m\n\u001b[1;32m     48\u001b[0m             \u001b[0;32mif\u001b[0m \u001b[0mout\u001b[0m\u001b[0;34m.\u001b[0m\u001b[0mrequires_grad\u001b[0m\u001b[0;34m:\u001b[0m\u001b[0;34m\u001b[0m\u001b[0;34m\u001b[0m\u001b[0m\n\u001b[1;32m     49\u001b[0m                 \u001b[0;32mif\u001b[0m \u001b[0mout\u001b[0m\u001b[0;34m.\u001b[0m\u001b[0mnumel\u001b[0m\u001b[0;34m(\u001b[0m\u001b[0;34m)\u001b[0m \u001b[0;34m!=\u001b[0m \u001b[0;36m1\u001b[0m\u001b[0;34m:\u001b[0m\u001b[0;34m\u001b[0m\u001b[0;34m\u001b[0m\u001b[0m\n\u001b[0;32m---> 50\u001b[0;31m                     \u001b[0;32mraise\u001b[0m \u001b[0mRuntimeError\u001b[0m\u001b[0;34m(\u001b[0m\u001b[0;34m\"grad can be implicitly created only for scalar outputs\"\u001b[0m\u001b[0;34m)\u001b[0m\u001b[0;34m\u001b[0m\u001b[0;34m\u001b[0m\u001b[0m\n\u001b[0m\u001b[1;32m     51\u001b[0m                 \u001b[0mnew_grads\u001b[0m\u001b[0;34m.\u001b[0m\u001b[0mappend\u001b[0m\u001b[0;34m(\u001b[0m\u001b[0mtorch\u001b[0m\u001b[0;34m.\u001b[0m\u001b[0mones_like\u001b[0m\u001b[0;34m(\u001b[0m\u001b[0mout\u001b[0m\u001b[0;34m,\u001b[0m \u001b[0mmemory_format\u001b[0m\u001b[0;34m=\u001b[0m\u001b[0mtorch\u001b[0m\u001b[0;34m.\u001b[0m\u001b[0mpreserve_format\u001b[0m\u001b[0;34m)\u001b[0m\u001b[0;34m)\u001b[0m\u001b[0;34m\u001b[0m\u001b[0;34m\u001b[0m\u001b[0m\n\u001b[1;32m     52\u001b[0m             \u001b[0;32melse\u001b[0m\u001b[0;34m:\u001b[0m\u001b[0;34m\u001b[0m\u001b[0;34m\u001b[0m\u001b[0m\n",
      "\u001b[0;31mRuntimeError\u001b[0m: grad can be implicitly created only for scalar outputs"
     ]
    }
   ],
   "source": [
    "y.backward()"
   ]
  },
  {
   "cell_type": "code",
   "execution_count": 52,
   "id": "2875e70e-c182-4d04-9763-6ee4bbf3d293",
   "metadata": {},
   "outputs": [],
   "source": [
    "a = torch.tensor([[1,2,3],[4,5,6]])"
   ]
  },
  {
   "cell_type": "code",
   "execution_count": 53,
   "id": "4b5c2b22-28d7-4d1f-9851-59920e006407",
   "metadata": {},
   "outputs": [
    {
     "data": {
      "text/plain": [
       "tensor([[1, 2, 3],\n",
       "        [4, 5, 6]])"
      ]
     },
     "execution_count": 53,
     "metadata": {},
     "output_type": "execute_result"
    }
   ],
   "source": [
    "a"
   ]
  },
  {
   "cell_type": "code",
   "execution_count": 54,
   "id": "8d94f5f2-f36d-424b-9c55-0804068e21db",
   "metadata": {},
   "outputs": [
    {
     "data": {
      "text/plain": [
       "torch.Size([2, 3])"
      ]
     },
     "execution_count": 54,
     "metadata": {},
     "output_type": "execute_result"
    }
   ],
   "source": [
    "a.shape"
   ]
  },
  {
   "cell_type": "code",
   "execution_count": 56,
   "id": "0103bb65-05d0-4085-ae42-fb5532d4975c",
   "metadata": {},
   "outputs": [
    {
     "data": {
      "text/plain": [
       "(tensor([4, 5, 6]), torch.Size([3]))"
      ]
     },
     "execution_count": 56,
     "metadata": {},
     "output_type": "execute_result"
    }
   ],
   "source": [
    "a[1],a[1].shape"
   ]
  },
  {
   "cell_type": "code",
   "execution_count": 7,
   "id": "e258a293-5eb6-4487-a69d-005e00ef46be",
   "metadata": {},
   "outputs": [],
   "source": [
    "import torch\n"
   ]
  },
  {
   "cell_type": "code",
   "execution_count": 10,
   "id": "b273b113-eb3a-4163-b54a-a5dba31559ea",
   "metadata": {},
   "outputs": [
    {
     "data": {
      "text/plain": [
       "tensor([[1, 1, 1, 1, 1, 1]])"
      ]
     },
     "execution_count": 10,
     "metadata": {},
     "output_type": "execute_result"
    }
   ],
   "source": [
    "torch.full((1,6),1)"
   ]
  },
  {
   "cell_type": "code",
   "execution_count": 17,
   "id": "64e278fc-cc8d-4a9b-84f5-7d48afc40f56",
   "metadata": {},
   "outputs": [
    {
     "data": {
      "text/plain": [
       "(tensor([ 1, 23, 56]), torch.Size([3]))"
      ]
     },
     "execution_count": 17,
     "metadata": {},
     "output_type": "execute_result"
    }
   ],
   "source": [
    "a=torch.tensor([1,23,56])\n",
    "a,a.shape"
   ]
  },
  {
   "cell_type": "code",
   "execution_count": 16,
   "id": "8748d407-736d-4e37-81cb-7aa90c9aeba0",
   "metadata": {},
   "outputs": [
    {
     "data": {
      "text/plain": [
       "(tensor([[1, 3, 2]]), torch.Size([1, 3]))"
      ]
     },
     "execution_count": 16,
     "metadata": {},
     "output_type": "execute_result"
    }
   ],
   "source": [
    "b=torch.tensor([[1,3,2]])\n",
    "b,b.shape"
   ]
  },
  {
   "cell_type": "code",
   "execution_count": 19,
   "id": "8c1edae6-158a-4d23-8db6-dfc882a6987a",
   "metadata": {},
   "outputs": [
    {
     "data": {
      "text/plain": [
       "tensor([182])"
      ]
     },
     "execution_count": 19,
     "metadata": {},
     "output_type": "execute_result"
    }
   ],
   "source": [
    "a@b.t()"
   ]
  },
  {
   "cell_type": "code",
   "execution_count": 20,
   "id": "8d92d898-31e8-496f-84bb-a444c98ea052",
   "metadata": {},
   "outputs": [
    {
     "ename": "RuntimeError",
     "evalue": "mat1 and mat2 shapes cannot be multiplied (1x3 and 1x3)",
     "output_type": "error",
     "traceback": [
      "\u001b[0;31m---------------------------------------------------------------------------\u001b[0m",
      "\u001b[0;31mRuntimeError\u001b[0m                              Traceback (most recent call last)",
      "\u001b[0;32m/tmp/ipykernel_32524/1067337049.py\u001b[0m in \u001b[0;36m<module>\u001b[0;34m\u001b[0m\n\u001b[0;32m----> 1\u001b[0;31m \u001b[0ma\u001b[0m\u001b[0;34m@\u001b[0m\u001b[0mb\u001b[0m\u001b[0;34m\u001b[0m\u001b[0;34m\u001b[0m\u001b[0m\n\u001b[0m",
      "\u001b[0;31mRuntimeError\u001b[0m: mat1 and mat2 shapes cannot be multiplied (1x3 and 1x3)"
     ]
    }
   ],
   "source": [
    "a@b"
   ]
  },
  {
   "cell_type": "code",
   "execution_count": 21,
   "id": "8293ce24-e4f7-478b-b857-fcc21d53bdb0",
   "metadata": {},
   "outputs": [
    {
     "ename": "RuntimeError",
     "evalue": "mat1 and mat2 shapes cannot be multiplied (1x3 and 1x3)",
     "output_type": "error",
     "traceback": [
      "\u001b[0;31m---------------------------------------------------------------------------\u001b[0m",
      "\u001b[0;31mRuntimeError\u001b[0m                              Traceback (most recent call last)",
      "\u001b[0;32m/tmp/ipykernel_32524/56802831.py\u001b[0m in \u001b[0;36m<module>\u001b[0;34m\u001b[0m\n\u001b[0;32m----> 1\u001b[0;31m \u001b[0ma\u001b[0m\u001b[0;34m.\u001b[0m\u001b[0mt\u001b[0m\u001b[0;34m(\u001b[0m\u001b[0;34m)\u001b[0m \u001b[0;34m@\u001b[0m \u001b[0mb\u001b[0m\u001b[0;34m\u001b[0m\u001b[0;34m\u001b[0m\u001b[0m\n\u001b[0m",
      "\u001b[0;31mRuntimeError\u001b[0m: mat1 and mat2 shapes cannot be multiplied (1x3 and 1x3)"
     ]
    }
   ],
   "source": [
    "a. @ b"
   ]
  },
  {
   "cell_type": "code",
   "execution_count": 23,
   "id": "5e5e8242-9a87-4859-bb90-e0e33afa7c90",
   "metadata": {},
   "outputs": [
    {
     "data": {
      "text/plain": [
       "(tensor([ 1, 23, 56]), tensor([ 1, 23, 56]))"
      ]
     },
     "execution_count": 23,
     "metadata": {},
     "output_type": "execute_result"
    }
   ],
   "source": [
    "a,a.t()"
   ]
  },
  {
   "cell_type": "code",
   "execution_count": 25,
   "id": "61d4b17d-b796-4b4f-8abf-8c31786bae47",
   "metadata": {},
   "outputs": [
    {
     "ename": "TypeError",
     "evalue": "transpose() received an invalid combination of arguments - got (Tensor, int), but expected one of:\n * (Tensor input, int dim0, int dim1)\n * (Tensor input, name dim0, name dim1)\n",
     "output_type": "error",
     "traceback": [
      "\u001b[0;31m---------------------------------------------------------------------------\u001b[0m",
      "\u001b[0;31mTypeError\u001b[0m                                 Traceback (most recent call last)",
      "\u001b[0;32m/tmp/ipykernel_32524/812035066.py\u001b[0m in \u001b[0;36m<module>\u001b[0;34m\u001b[0m\n\u001b[0;32m----> 1\u001b[0;31m \u001b[0mtorch\u001b[0m\u001b[0;34m.\u001b[0m\u001b[0mtranspose\u001b[0m\u001b[0;34m(\u001b[0m\u001b[0ma\u001b[0m\u001b[0;34m,\u001b[0m\u001b[0;36m1\u001b[0m\u001b[0;34m)\u001b[0m\u001b[0;34m\u001b[0m\u001b[0;34m\u001b[0m\u001b[0m\n\u001b[0m",
      "\u001b[0;31mTypeError\u001b[0m: transpose() received an invalid combination of arguments - got (Tensor, int), but expected one of:\n * (Tensor input, int dim0, int dim1)\n * (Tensor input, name dim0, name dim1)\n"
     ]
    }
   ],
   "source": [
    "torch.transpose(a,1)"
   ]
  },
  {
   "cell_type": "code",
   "execution_count": 36,
   "id": "6126fa67-a8e5-437d-8166-04297e75d3af",
   "metadata": {},
   "outputs": [
    {
     "data": {
      "text/plain": [
       "tensor([[ 1, 23, 56]])"
      ]
     },
     "execution_count": 36,
     "metadata": {},
     "output_type": "execute_result"
    }
   ],
   "source": [
    " torch.reshape(a,(1,3))"
   ]
  },
  {
   "cell_type": "code",
   "execution_count": 30,
   "id": "a65a06b0-2267-40e6-a4b3-ab3b8dc621c1",
   "metadata": {},
   "outputs": [],
   "source": [
    "import numpy as np"
   ]
  },
  {
   "cell_type": "code",
   "execution_count": 31,
   "id": "b446a2ea-c53a-4310-b825-729154dc5d47",
   "metadata": {},
   "outputs": [],
   "source": [
    "x = np.array([[1,2,30],[15,25,350]])"
   ]
  },
  {
   "cell_type": "code",
   "execution_count": 32,
   "id": "cc1f88bb-c1b9-4284-bc6c-6da461dc2b57",
   "metadata": {},
   "outputs": [
    {
     "data": {
      "text/plain": [
       "array([[  1,   2,  30],\n",
       "       [ 15,  25, 350]])"
      ]
     },
     "execution_count": 32,
     "metadata": {},
     "output_type": "execute_result"
    }
   ],
   "source": [
    "x"
   ]
  },
  {
   "cell_type": "code",
   "execution_count": 34,
   "id": "d8d39983-98c0-4d9c-9675-2dd246a3b55c",
   "metadata": {},
   "outputs": [
    {
     "data": {
      "text/plain": [
       "(array([ 1,  2, 30]), (3,))"
      ]
     },
     "execution_count": 34,
     "metadata": {},
     "output_type": "execute_result"
    }
   ],
   "source": [
    "x[0],x[0].shape"
   ]
  },
  {
   "cell_type": "code",
   "execution_count": 35,
   "id": "2a9018d3-4dda-4167-8656-ece536fbebda",
   "metadata": {},
   "outputs": [
    {
     "data": {
      "text/plain": [
       "tensor([ 1,  2, 30])"
      ]
     },
     "execution_count": 35,
     "metadata": {},
     "output_type": "execute_result"
    }
   ],
   "source": [
    "torch.tensor(x[0])"
   ]
  },
  {
   "cell_type": "code",
   "execution_count": 44,
   "id": "31073c40-5f1d-462a-8b5f-bdd4309b1f5c",
   "metadata": {},
   "outputs": [],
   "source": [
    "a= torch.tensor([[ 1,  2, 30]])"
   ]
  },
  {
   "cell_type": "code",
   "execution_count": 43,
   "id": "8e1d62ff-0771-4fa1-b77e-1f54d966bba5",
   "metadata": {},
   "outputs": [],
   "source": [
    "b= torch.tensor([[ 11,  12]])"
   ]
  },
  {
   "cell_type": "code",
   "execution_count": 45,
   "id": "1de21272-8221-4b30-ba80-a0b688378c54",
   "metadata": {},
   "outputs": [
    {
     "data": {
      "text/plain": [
       "tensor([[ 1,  2, 30, 11, 12]])"
      ]
     },
     "execution_count": 45,
     "metadata": {},
     "output_type": "execute_result"
    }
   ],
   "source": [
    "torch.cat((a,b),1)"
   ]
  },
  {
   "cell_type": "code",
   "execution_count": 47,
   "id": "3f38398f-2dd6-4489-b7c2-53edd8e62fd6",
   "metadata": {},
   "outputs": [],
   "source": [
    "groupjoin = pickle.load(open(\"data/groupjoin\",\"rb\"))"
   ]
  },
  {
   "cell_type": "code",
   "execution_count": 48,
   "id": "b489cc44-fccb-4e5a-b779-9568e38b1198",
   "metadata": {},
   "outputs": [],
   "source": [
    "import pickle"
   ]
  },
  {
   "cell_type": "code",
   "execution_count": 49,
   "id": "d17449a4-c0aa-429b-b165-e829a4cdfe87",
   "metadata": {},
   "outputs": [],
   "source": [
    "tag_new_slide = pickle.load(open(\"data/tag_new_slide1\",\"rb\"))"
   ]
  },
  {
   "cell_type": "code",
   "execution_count": 82,
   "id": "999cfe6d-ea73-4dcb-8960-89228fc316ae",
   "metadata": {},
   "outputs": [
    {
     "data": {
      "text/plain": [
       "[1187853,\n",
       " 11870222,\n",
       " 19513360,\n",
       " 1826841,\n",
       " 19587098,\n",
       " 1703963,\n",
       " 18489374,\n",
       " 1368097,\n",
       " 16621602,\n",
       " 1671174]"
      ]
     },
     "execution_count": 82,
     "metadata": {},
     "output_type": "execute_result"
    }
   ],
   "source": [
    "list(tag_new_slide)[2+0:2+10]"
   ]
  },
  {
   "cell_type": "code",
   "execution_count": 51,
   "id": "5027cd02-4ea1-4cf5-a943-480544049c00",
   "metadata": {},
   "outputs": [
    {
     "data": {
      "text/plain": [
       "[-1, -1, -1]"
      ]
     },
     "execution_count": 51,
     "metadata": {},
     "output_type": "execute_result"
    }
   ],
   "source": [
    "tag_new_slide[18497538]"
   ]
  },
  {
   "cell_type": "code",
   "execution_count": 52,
   "id": "0e6fd49d-a1bd-4776-9211-9a23e1c2142e",
   "metadata": {},
   "outputs": [],
   "source": [
    "new_grp_event = pickle.load(open(\"data/new_grp_event\",\"rb\"))"
   ]
  },
  {
   "cell_type": "code",
   "execution_count": 54,
   "id": "bcf02771-c318-4a00-a9f8-a53acd2e251e",
   "metadata": {},
   "outputs": [
    {
     "data": {
      "text/plain": [
       "([('221115653', 1428796800000),\n",
       "  ('221800730', 1430611200000),\n",
       "  ('222518168', 1433635200000),\n",
       "  ('223483309', 1435449600000),\n",
       "  ('224830260', 1441497600000),\n",
       "  ('225833501', 1444521600000),\n",
       "  ('225833509', 1446944400000),\n",
       "  ('225833520', 1449363600000),\n",
       "  ('229209253', 1457226000000),\n",
       "  ('229209293', 1459641600000),\n",
       "  ('230832459', 1462665600000)],\n",
       " 11)"
      ]
     },
     "execution_count": 54,
     "metadata": {},
     "output_type": "execute_result"
    }
   ],
   "source": [
    "new_grp_event[18497538],len(new_grp_event[18497538])"
   ]
  },
  {
   "cell_type": "code",
   "execution_count": 57,
   "id": "ec7b4c84-62ea-47d0-bc73-5d5fcd967db8",
   "metadata": {},
   "outputs": [
    {
     "data": {
      "text/plain": [
       "([-1, -1, -1, -1], 4)"
      ]
     },
     "execution_count": 57,
     "metadata": {},
     "output_type": "execute_result"
    }
   ],
   "source": [
    "tag_new_slide[19841030],len(tag_new_slide[19841030])"
   ]
  },
  {
   "cell_type": "code",
   "execution_count": 56,
   "id": "8186eda3-fb8a-4368-803b-3b9bb9f8fba6",
   "metadata": {},
   "outputs": [
    {
     "data": {
      "text/plain": [
       "([('230378231', 1461027600000),\n",
       "  ('230495467', 1461805200000),\n",
       "  ('232202645', 1467387000000),\n",
       "  ('232202449', 1468364400000),\n",
       "  ('231777396', 1468364400000),\n",
       "  ('232569037', 1469296800000),\n",
       "  ('232423279', 1469296800000),\n",
       "  ('234230808', 1475542800000),\n",
       "  ('234590613', 1475931600000),\n",
       "  ('234594790', 1476536400000),\n",
       "  ('234766540', 1477227600000),\n",
       "  ('235406723', 1478959200000)],\n",
       " 12)"
      ]
     },
     "execution_count": 56,
     "metadata": {},
     "output_type": "execute_result"
    }
   ],
   "source": [
    "new_grp_event[19841030],len(new_grp_event[19841030])"
   ]
  },
  {
   "cell_type": "code",
   "execution_count": 58,
   "id": "96ea3b71-a915-4032-a81c-09e041e98dff",
   "metadata": {},
   "outputs": [
    {
     "data": {
      "text/plain": [
       "379583"
      ]
     },
     "execution_count": 58,
     "metadata": {},
     "output_type": "execute_result"
    }
   ],
   "source": [
    "sum([len(new_grp_event[i])-9 for i in new_grp_event])"
   ]
  },
  {
   "cell_type": "code",
   "execution_count": 64,
   "id": "ed4a3335-518b-4947-be28-7a65630282c1",
   "metadata": {},
   "outputs": [
    {
     "data": {
      "text/plain": [
       "(-8, 1274964)"
      ]
     },
     "execution_count": 64,
     "metadata": {},
     "output_type": "execute_result"
    }
   ],
   "source": [
    "min([(len(new_grp_event[i])-9,i) for i in new_grp_event])"
   ]
  },
  {
   "cell_type": "code",
   "execution_count": 63,
   "id": "56726f7e-327a-4e06-9797-9371536c21a5",
   "metadata": {},
   "outputs": [
    {
     "ename": "KeyError",
     "evalue": "1274964",
     "output_type": "error",
     "traceback": [
      "\u001b[0;31m---------------------------------------------------------------------------\u001b[0m",
      "\u001b[0;31mKeyError\u001b[0m                                  Traceback (most recent call last)",
      "\u001b[0;32m/tmp/ipykernel_32524/1954929724.py\u001b[0m in \u001b[0;36m<module>\u001b[0;34m\u001b[0m\n\u001b[0;32m----> 1\u001b[0;31m \u001b[0mtag_new_slide\u001b[0m\u001b[0;34m[\u001b[0m\u001b[0;36m1274964\u001b[0m\u001b[0;34m]\u001b[0m\u001b[0;34m\u001b[0m\u001b[0;34m\u001b[0m\u001b[0m\n\u001b[0m",
      "\u001b[0;31mKeyError\u001b[0m: 1274964"
     ]
    }
   ],
   "source": [
    "tag_new_slide[1274964]"
   ]
  },
  {
   "cell_type": "code",
   "execution_count": 65,
   "id": "b7107bd4-2a06-4898-a698-6450b44e2812",
   "metadata": {},
   "outputs": [
    {
     "data": {
      "text/plain": [
       "(2088, 5647)"
      ]
     },
     "execution_count": 65,
     "metadata": {},
     "output_type": "execute_result"
    }
   ],
   "source": [
    "len(tag_new_slide),len(new_grp_event)"
   ]
  },
  {
   "cell_type": "code",
   "execution_count": 76,
   "id": "1ce5c6e0-1986-4c51-823d-2d69e971c87b",
   "metadata": {},
   "outputs": [
    {
     "data": {
      "text/plain": [
       "(0, 1417721)"
      ]
     },
     "execution_count": 76,
     "metadata": {},
     "output_type": "execute_result"
    }
   ],
   "source": [
    "min([(len(new_grp_event[i])-10,i) for i in tag_new_slide])"
   ]
  },
  {
   "cell_type": "code",
   "execution_count": 69,
   "id": "182691e6-9612-4b0a-8d67-263462833c5c",
   "metadata": {},
   "outputs": [
    {
     "data": {
      "text/plain": [
       "309644"
      ]
     },
     "execution_count": 69,
     "metadata": {},
     "output_type": "execute_result"
    }
   ],
   "source": [
    "sum([len(new_grp_event[i])-9 for i in tag_new_slide])"
   ]
  },
  {
   "cell_type": "code",
   "execution_count": 70,
   "id": "0de20e6f-7e9b-4fad-b2ab-7ba32849eb93",
   "metadata": {},
   "outputs": [],
   "source": [
    "groupjoin = pickle.load(open(\"data/groupjoin\",\"rb\"))"
   ]
  },
  {
   "cell_type": "code",
   "execution_count": 71,
   "id": "51a8d4ff-8958-41e3-a183-9d86c18bd804",
   "metadata": {},
   "outputs": [
    {
     "data": {
      "text/plain": [
       "[1671174,\n",
       " 21004296,\n",
       " 1638409,\n",
       " 15859722,\n",
       " 1769484,\n",
       " 18645005,\n",
       " 18448408,\n",
       " 1703963,\n",
       " 20185123,\n",
       " 20447271]"
      ]
     },
     "execution_count": 71,
     "metadata": {},
     "output_type": "execute_result"
    }
   ],
   "source": [
    "list(groupjoin)[:10]"
   ]
  },
  {
   "cell_type": "code",
   "execution_count": 73,
   "id": "50c9ebe3-9f66-44a5-81b2-736f59a4ec1d",
   "metadata": {},
   "outputs": [
    {
     "data": {
      "text/plain": [
       "1737"
      ]
     },
     "execution_count": 73,
     "metadata": {},
     "output_type": "execute_result"
    }
   ],
   "source": [
    "len(groupjoin[1671174])"
   ]
  },
  {
   "cell_type": "code",
   "execution_count": 75,
   "id": "c32a8e29-d10a-41c6-948c-af285f04c212",
   "metadata": {},
   "outputs": [
    {
     "data": {
      "text/plain": [
       "1737"
      ]
     },
     "execution_count": 75,
     "metadata": {},
     "output_type": "execute_result"
    }
   ],
   "source": [
    "len(groupjoin[1671174])"
   ]
  },
  {
   "cell_type": "code",
   "execution_count": 79,
   "id": "8a588e3e-6d7f-4abe-a9ec-5c8ca3f87b3c",
   "metadata": {},
   "outputs": [
    {
     "data": {
      "text/plain": [
       "[('10033835', 1240084800000),\n",
       " ('10214615', 1240686000000),\n",
       " ('10214617', 1241895600000),\n",
       " ('10214618', 1242504000000),\n",
       " ('10214619', 1243108800000),\n",
       " ('10266314', 1243713600000),\n",
       " ('10375834', 1244318400000),\n",
       " ('10375835', 1244923200000),\n",
       " ('10427076', 1245528000000),\n",
       " ('10478778', 1246132800000)]"
      ]
     },
     "execution_count": 79,
     "metadata": {},
     "output_type": "execute_result"
    }
   ],
   "source": [
    "new_grp_event[1417721]"
   ]
  },
  {
   "cell_type": "code",
   "execution_count": 80,
   "id": "977d5fe4-2271-41a4-a670-d4dbb8a1a97d",
   "metadata": {},
   "outputs": [
    {
     "data": {
      "text/plain": [
       "[-1, -1]"
      ]
     },
     "execution_count": 80,
     "metadata": {},
     "output_type": "execute_result"
    }
   ],
   "source": [
    "tag_new_slide[1417721]"
   ]
  },
  {
   "cell_type": "code",
   "execution_count": 83,
   "id": "8c9aadaa-83c3-4807-9323-0f7dce798792",
   "metadata": {},
   "outputs": [
    {
     "name": "stdout",
     "output_type": "stream",
     "text": [
      "1 13 23\n"
     ]
    }
   ],
   "source": [
    "print(*[1,13,23])"
   ]
  },
  {
   "cell_type": "code",
   "execution_count": 84,
   "id": "f55c2cc0-9e6d-4040-939b-ca8f7f3afbbb",
   "metadata": {},
   "outputs": [
    {
     "name": "stdout",
     "output_type": "stream",
     "text": [
      "1 12 15\n"
     ]
    }
   ],
   "source": [
    "print(1,12,15)"
   ]
  },
  {
   "cell_type": "code",
   "execution_count": 86,
   "id": "ae03fd0f-c297-425d-bd65-630656ef2ebc",
   "metadata": {},
   "outputs": [],
   "source": [
    "from pathlib import Path\n"
   ]
  },
  {
   "cell_type": "code",
   "execution_count": 116,
   "id": "a2c3cb54-60a7-4666-8689-26f8fc1752ba",
   "metadata": {},
   "outputs": [],
   "source": [
    "m = [str(x).split('/')[-1].split('.')[0] for x in Path(\"member_level_features_windowwise\").iterdir()]"
   ]
  },
  {
   "cell_type": "code",
   "execution_count": 117,
   "id": "9fac3256-cdeb-44ef-a2a2-75ded548b10e",
   "metadata": {},
   "outputs": [],
   "source": [
    "n =  [str(x).split('/')[-1].split('.')[0] for x in Path(\"NMF_member_level_features_windowwise\").iterdir()]"
   ]
  },
  {
   "cell_type": "code",
   "execution_count": 118,
   "id": "4493a916-2a48-4ba6-a633-20339cf3770b",
   "metadata": {},
   "outputs": [],
   "source": [
    "g =  [str(x).split('/')[-1].split('.')[0] for x in Path(\"graph_windowwise\").iterdir()]"
   ]
  },
  {
   "cell_type": "code",
   "execution_count": 120,
   "id": "c98bc635-d8dd-4d15-8456-ad3b98a0bc5f",
   "metadata": {},
   "outputs": [
    {
     "data": {
      "text/plain": [
       "(228664, 228663, 228663)"
      ]
     },
     "execution_count": 120,
     "metadata": {},
     "output_type": "execute_result"
    }
   ],
   "source": [
    "len(m),len(n),len(g)"
   ]
  },
  {
   "cell_type": "code",
   "execution_count": 119,
   "id": "7e510832-c2fd-493d-8fd2-eaf114727cd2",
   "metadata": {},
   "outputs": [
    {
     "data": {
      "text/plain": [
       "True"
      ]
     },
     "execution_count": 119,
     "metadata": {},
     "output_type": "execute_result"
    }
   ],
   "source": [
    "sorted(n) == sorted(g)"
   ]
  },
  {
   "cell_type": "code",
   "execution_count": 129,
   "id": "5571a7dd-f3a9-41dd-8de4-2b8665f191ee",
   "metadata": {},
   "outputs": [],
   "source": [
    "m = sorted(m)"
   ]
  },
  {
   "cell_type": "code",
   "execution_count": 130,
   "id": "a0a94829-da38-46ba-8d72-6b408352cf4d",
   "metadata": {},
   "outputs": [],
   "source": [
    "n = sorted(n)"
   ]
  },
  {
   "cell_type": "code",
   "execution_count": 133,
   "id": "c53ecabe-e5d5-4a4c-a974-eb83cef500e7",
   "metadata": {},
   "outputs": [
    {
     "name": "stdout",
     "output_type": "stream",
     "text": [
      "173114\n",
      "4628482_9 4628482_88\n"
     ]
    }
   ],
   "source": [
    "\n",
    "for i in range(len(n)):\n",
    "    if n[i]!=m[i]:\n",
    "        print(i)\n",
    "        print(n[i],m[i])\n",
    "        break\n",
    "    "
   ]
  },
  {
   "cell_type": "code",
   "execution_count": 134,
   "id": "8ab83625-0a36-4804-a38e-dac50ffd4578",
   "metadata": {},
   "outputs": [
    {
     "data": {
      "text/plain": [
       "('4628482_87', '4628482_87')"
      ]
     },
     "execution_count": 134,
     "metadata": {},
     "output_type": "execute_result"
    }
   ],
   "source": [
    "n[173114 -1] ,m[173114 -1]"
   ]
  },
  {
   "cell_type": "code",
   "execution_count": 125,
   "id": "85e99b5d-1dd7-4c78-bffb-1ee9d1b0adb8",
   "metadata": {},
   "outputs": [
    {
     "data": {
      "text/plain": [
       "['9974682_0',\n",
       " '9974682_1',\n",
       " '9974682_2',\n",
       " '9974682_3',\n",
       " '9974682_4',\n",
       " '9974682_5',\n",
       " '9974682_6',\n",
       " '9974682_7',\n",
       " '9974682_8',\n",
       " '9974682_9']"
      ]
     },
     "execution_count": 125,
     "metadata": {},
     "output_type": "execute_result"
    }
   ],
   "source": [
    "sorted(m)[-10:]"
   ]
  },
  {
   "cell_type": "code",
   "execution_count": 126,
   "id": "08e200ba-2aca-4cdd-bc57-2454a9984bcf",
   "metadata": {},
   "outputs": [
    {
     "data": {
      "text/plain": [
       "['9974682_0',\n",
       " '9974682_1',\n",
       " '9974682_2',\n",
       " '9974682_3',\n",
       " '9974682_4',\n",
       " '9974682_5',\n",
       " '9974682_6',\n",
       " '9974682_7',\n",
       " '9974682_8',\n",
       " '9974682_9']"
      ]
     },
     "execution_count": 126,
     "metadata": {},
     "output_type": "execute_result"
    }
   ],
   "source": [
    "sorted(n)[-10:]"
   ]
  },
  {
   "cell_type": "code",
   "execution_count": null,
   "id": "d6a0ca2c-7af0-47cd-8c7d-5aafa231f302",
   "metadata": {},
   "outputs": [],
   "source": []
  }
 ],
 "metadata": {
  "kernelspec": {
   "display_name": "Python 3 (ipykernel)",
   "language": "python",
   "name": "python3"
  },
  "language_info": {
   "codemirror_mode": {
    "name": "ipython",
    "version": 3
   },
   "file_extension": ".py",
   "mimetype": "text/x-python",
   "name": "python",
   "nbconvert_exporter": "python",
   "pygments_lexer": "ipython3",
   "version": "3.7.11"
  }
 },
 "nbformat": 4,
 "nbformat_minor": 5
}
