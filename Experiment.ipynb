{
 "cells": [
  {
   "cell_type": "code",
   "execution_count": 1,
   "id": "38168329-ffee-4822-9a76-9c14bacb195b",
   "metadata": {},
   "outputs": [],
   "source": [
    "import pickle"
   ]
  },
  {
   "cell_type": "code",
   "execution_count": 20,
   "id": "0cd9af99-10a9-4365-bd3a-009456dede88",
   "metadata": {},
   "outputs": [],
   "source": [
    "groupjoin = pickle.load(open(\"data/groupjoin\",\"rb\"))"
   ]
  },
  {
   "cell_type": "code",
   "execution_count": 21,
   "id": "bb6251b7-4a66-43a9-84a2-4ad2fddfef91",
   "metadata": {},
   "outputs": [
    {
     "data": {
      "text/plain": [
       "5952"
      ]
     },
     "execution_count": 21,
     "metadata": {},
     "output_type": "execute_result"
    }
   ],
   "source": [
    "len(groupjoin)"
   ]
  },
  {
   "cell_type": "code",
   "execution_count": 5,
   "id": "ade1f146-9617-4dd8-bae3-7fd8abfe8c6d",
   "metadata": {},
   "outputs": [],
   "source": [
    "import pandas as pd"
   ]
  },
  {
   "cell_type": "code",
   "execution_count": 6,
   "id": "c9ad15b5-a078-400e-a699-d8e8df7ba4a2",
   "metadata": {},
   "outputs": [],
   "source": [
    "groupjoin = pickle.load(open(\"data/groupjoin\",\"rb\"))"
   ]
  },
  {
   "cell_type": "code",
   "execution_count": 7,
   "id": "4925dbda-3a7d-4e9b-a70c-7e5cd8252ab2",
   "metadata": {},
   "outputs": [
    {
     "data": {
      "text/plain": [
       "5952"
      ]
     },
     "execution_count": 7,
     "metadata": {},
     "output_type": "execute_result"
    }
   ],
   "source": [
    "len(groupjoin)"
   ]
  },
  {
   "cell_type": "code",
   "execution_count": 15,
   "id": "8dfbf768-ed37-4f30-ba4c-3acdd3f1e537",
   "metadata": {},
   "outputs": [
    {
     "data": {
      "text/plain": [
       "(1737,\n",
       " [(7467415, 1278656196000),\n",
       "  (10290000, 1278656973000),\n",
       "  (8978228, 1278677405000),\n",
       "  (9041705, 1278681464000),\n",
       "  (11413753, 1278685331000),\n",
       "  (11738963, 1278686299000),\n",
       "  (4323799, 1278688849000),\n",
       "  (6657235, 1278697584000),\n",
       "  (9061588, 1278698802000),\n",
       "  (6008990, 1278699541000)])"
      ]
     },
     "execution_count": 15,
     "metadata": {},
     "output_type": "execute_result"
    }
   ],
   "source": [
    "len(groupjoin[1671174]),groupjoin[1671174][:10]"
   ]
  },
  {
   "cell_type": "code",
   "execution_count": 16,
   "id": "104a4dd8-fb11-4abf-a6ed-69f7fe0a8f51",
   "metadata": {},
   "outputs": [],
   "source": [
    "ersvp = pickle.load(open(\"data/ersvp\",\"rb\"))"
   ]
  },
  {
   "cell_type": "code",
   "execution_count": 19,
   "id": "dbc5fa9d-05ca-4012-a114-e1bf41c03db5",
   "metadata": {},
   "outputs": [
    {
     "data": {
      "text/plain": [
       "(294571,\n",
       " [(7918822, 1397910371000),\n",
       "  (103016352, 1397757003000),\n",
       "  (104586062, 1397918738000)])"
      ]
     },
     "execution_count": 19,
     "metadata": {},
     "output_type": "execute_result"
    }
   ],
   "source": [
    "len(ersvp),ersvp['dlfrldysgbbc']"
   ]
  },
  {
   "cell_type": "code",
   "execution_count": 20,
   "id": "2a53863c-6b93-4739-871b-f058a7b343d7",
   "metadata": {},
   "outputs": [],
   "source": [
    "new_grp_event = pickle.load(open(\"data/new_grp_event\",\"rb\"))"
   ]
  },
  {
   "cell_type": "code",
   "execution_count": 27,
   "id": "75f93b97-9b88-4836-a553-c0a4b27df7fd",
   "metadata": {},
   "outputs": [
    {
     "data": {
      "text/plain": [
       "(5647,\n",
       " 177,\n",
       " [('14013449', 1279029600000),\n",
       "  ('14097177', 1282917600000),\n",
       "  ('14704584', 1292598000000),\n",
       "  ('16638356', 1298484000000),\n",
       "  ('16908526', 1307111400000),\n",
       "  ('24160391', 1310135400000),\n",
       "  ('57096322', 1332608400000),\n",
       "  ('56590142', 1335535200000),\n",
       "  ('62400822', 1338559200000),\n",
       "  ('67315922', 1340978400000)])"
      ]
     },
     "execution_count": 27,
     "metadata": {},
     "output_type": "execute_result"
    }
   ],
   "source": [
    "len(new_grp_event),len(new_grp_event[1671174]),new_grp_event[1671174][:10]"
   ]
  },
  {
   "cell_type": "code",
   "execution_count": 30,
   "id": "8d5f7748-bddc-4c03-bea6-3478801299db",
   "metadata": {},
   "outputs": [],
   "source": [
    "x = []\n",
    "for i in new_grp_event :\n",
    "    if i in groupjoin:\n",
    "        x.append(i)"
   ]
  },
  {
   "cell_type": "code",
   "execution_count": 49,
   "id": "d926b914-8737-4ff0-bfd4-3ef155b2e8ff",
   "metadata": {},
   "outputs": [],
   "source": [
    "def GetValidGrps(new_grp_event,groupjoin) :\n",
    "    return [i for i in new_grp_event if i in groupjoin]\n",
    "            "
   ]
  },
  {
   "cell_type": "code",
   "execution_count": 36,
   "id": "451b3a07-2b75-44db-a1da-ebad960eedf2",
   "metadata": {},
   "outputs": [
    {
     "data": {
      "text/plain": [
       "(5319,\n",
       " [1671174,\n",
       "  1638409,\n",
       "  15859722,\n",
       "  1769484,\n",
       "  18645005,\n",
       "  18448408,\n",
       "  1703963,\n",
       "  20185123,\n",
       "  20447271,\n",
       "  16711722])"
      ]
     },
     "execution_count": 36,
     "metadata": {},
     "output_type": "execute_result"
    }
   ],
   "source": [
    "len(x),x[:10]"
   ]
  },
  {
   "cell_type": "code",
   "execution_count": 50,
   "id": "6f1816b5-a0ed-47cc-b972-d456a291849f",
   "metadata": {},
   "outputs": [
    {
     "data": {
      "text/plain": [
       "5319"
      ]
     },
     "execution_count": 50,
     "metadata": {},
     "output_type": "execute_result"
    }
   ],
   "source": [
    "len(GetValidGrps(new_grp_event,groupjoin))"
   ]
  },
  {
   "cell_type": "code",
   "execution_count": null,
   "id": "7a2fc4c5-ce11-4124-915d-b8d87e4a1b20",
   "metadata": {},
   "outputs": [],
   "source": []
  },
  {
   "cell_type": "code",
   "execution_count": 45,
   "id": "baa12903-913b-4be1-b49f-90d97c7918fb",
   "metadata": {},
   "outputs": [],
   "source": [
    "def make_social_graph_of_grp_members(grp_id,groupjoin,ersvp,new_grp_event) :\n",
    "    member_set = set()\n",
    "    for member,time in groupjoin[grp_id] :\n",
    "        member_set.add(member)\n",
    "    \n",
    "    events_in_grp = []\n",
    "    \n",
    "    for event_id,time in new_grp_event[grp_id] :\n",
    "        if event_id in ersvp:\n",
    "            events_in_grp.append(event_id)\n",
    "    edges = {}\n",
    "    for event_id in events_in_grp :\n",
    "\n",
    "        event_member_set = list(set([member for member,time in ersvp[event_id]  if member in member_set ]))\n",
    "        event_member_set = sorted(event_member_set)\n",
    "        for i in range(len(event_member_set)) :\n",
    "            for j in range(i+1,len(event_member_set)):\n",
    "                if (event_member_set[i],event_member_set[j]) in edges :\n",
    "                    edges[(event_member_set[i],event_member_set[j])]+=1\n",
    "                else :\n",
    "                    edges[(event_member_set[i],event_member_set[j])]=1\n",
    "    return list(member_set),[(i,j,edges[(i,j)]) for i,j in edges]\n",
    "                \n",
    "        \n",
    "        \n",
    "        \n",
    "    \n",
    "    "
   ]
  },
  {
   "cell_type": "code",
   "execution_count": 46,
   "id": "e1c5db7d-a097-4f70-9c10-4c8157b36b85",
   "metadata": {},
   "outputs": [],
   "source": [
    "members,edges =  make_social_graph_of_grp_members(1671174,groupjoin,ersvp,new_grp_event)"
   ]
  },
  {
   "cell_type": "code",
   "execution_count": 47,
   "id": "b708ac03-e640-43a3-afc3-2b303d7f3075",
   "metadata": {},
   "outputs": [
    {
     "data": {
      "text/plain": [
       "((1737,\n",
       "  [4677635,\n",
       "   78503952,\n",
       "   72146962,\n",
       "   211894314,\n",
       "   181026862,\n",
       "   192176181,\n",
       "   190709814,\n",
       "   7921723,\n",
       "   182566981,\n",
       "   209363031]),\n",
       " (55199,\n",
       "  [(5620833, 6657235, 1),\n",
       "   (5620833, 7467415, 1),\n",
       "   (5620833, 8978228, 2),\n",
       "   (5620833, 9041705, 3),\n",
       "   (5620833, 9061588, 1),\n",
       "   (5620833, 9420414, 2),\n",
       "   (5620833, 10290000, 1),\n",
       "   (5620833, 11350459, 2),\n",
       "   (5620833, 11413753, 2),\n",
       "   (5620833, 11738963, 5)]))"
      ]
     },
     "execution_count": 47,
     "metadata": {},
     "output_type": "execute_result"
    }
   ],
   "source": [
    "(len(members),members[:10]),(len(edges),edges[:10])"
   ]
  },
  {
   "cell_type": "code",
   "execution_count": 48,
   "id": "56bc6afd-1907-4fbd-8e0c-e873f2f7e860",
   "metadata": {},
   "outputs": [],
   "source": [
    "def make_member_level_features(grp_id,groupjoin,ersvp,new_grp_event) :\n",
    "    members,edges =  make_social_graph_of_grp_members(grp_id,groupjoin,ersvp,new_grp_event)\n",
    "    adjacency_list = {}\n",
    "    for member in members :\n",
    "        adjacency_list[member] = []\n",
    "    for i,j,w in edges :\n",
    "        adjacency_list[i].append((j,w))\n",
    "        adjacency_list[j].append((i,w))\n",
    "    "
   ]
  },
  {
   "cell_type": "code",
   "execution_count": 51,
   "id": "c16c7092-d121-4a02-92b8-d148b7a19b38",
   "metadata": {},
   "outputs": [],
   "source": [
    "def get_memberId_to_groups(valid_grps,groupjoin) :\n",
    "    memberId_to_groups = {}\n",
    "    for grp in valid_grps :\n",
    "        for member , time in groupjoin[grp] :\n",
    "            if member in  memberId_to_groups :\n",
    "                memberId_to_groups[member].append(grp)\n",
    "            else :\n",
    "                memberId_to_groups[member] = [grp]\n",
    "    return memberId_to_groups\n",
    "    \n",
    "    "
   ]
  },
  {
   "cell_type": "code",
   "execution_count": 54,
   "id": "74773cef-0afe-4424-a6dc-ee317db8da3e",
   "metadata": {},
   "outputs": [],
   "source": [
    "def get_grp_to_memberId_to_attended_events(grp_to_valid_events,groupjoin,ersvp):\n",
    "    grp_to_memberId_to_attended_events = {}\n",
    "    for grp in grp_to_valid_events :\n",
    "        memberId_to_attended_events = {}\n",
    "        for event,_ in grp_to_valid_events[grp] :\n",
    "            for member,time in ersvp[event] :\n",
    "                if member in memberId_to_attended_events :\n",
    "                    memberId_to_attended_events.append(event)\n",
    "                else :\n",
    "                    memberId_to_attended_events = [event]\n",
    "        grp_to_memberId_to_attended_events[grp] = memberId_to_attended_events\n",
    "    return grp_to_memberId_to_attended_events\n",
    "                \n",
    "    \n",
    "    \n",
    "    "
   ]
  },
  {
   "cell_type": "code",
   "execution_count": 55,
   "id": "2cd28a76-376a-4412-a4d6-79944f958917",
   "metadata": {},
   "outputs": [],
   "source": [
    "def get_grp_to_valid_events(valid_grps,new_grp_event,ersvp):\n",
    "    grp_to_valid_events = {}\n",
    "    for i in valid_grps :\n",
    "        for j,_ in new_grp_event[i] :\n",
    "            if j in ersvp :\n",
    "                grp_to_valid_events[i].append(j)\n",
    "    return grp_to_valid_events"
   ]
  },
  {
   "cell_type": "code",
   "execution_count": 57,
   "id": "48e4b5ea-30f0-41bd-815c-379220abbd21",
   "metadata": {},
   "outputs": [],
   "source": [
    "from sklearn.decomposition import NMF"
   ]
  },
  {
   "cell_type": "code",
   "execution_count": 58,
   "id": "a8630494-0dc2-4193-a1d9-b069eee134bc",
   "metadata": {},
   "outputs": [],
   "source": [
    "mat = [[2,3,5,6],[45,89,4,36]]"
   ]
  },
  {
   "cell_type": "code",
   "execution_count": 64,
   "id": "f9347f4c-5840-4b9e-bc4d-e0d3a3062599",
   "metadata": {},
   "outputs": [],
   "source": [
    "model = NMF(n_components =3 )"
   ]
  },
  {
   "cell_type": "code",
   "execution_count": 65,
   "id": "bc5d4264-39e5-4a6d-89ef-87ad73413e68",
   "metadata": {},
   "outputs": [
    {
     "name": "stderr",
     "output_type": "stream",
     "text": [
      "/home/sanket/miniconda3/envs/data_science/lib/python3.7/site-packages/sklearn/decomposition/_nmf.py:315: FutureWarning: The 'init' value, when 'init=None' and n_components is less than n_samples and n_features, will be changed from 'nndsvd' to 'nndsvda' in 1.1 (renaming of 0.26).\n",
      "  \"'nndsvda' in 1.1 (renaming of 0.26).\"), FutureWarning)\n"
     ]
    },
    {
     "data": {
      "text/plain": [
       "NMF(n_components=3)"
      ]
     },
     "execution_count": 65,
     "metadata": {},
     "output_type": "execute_result"
    }
   ],
   "source": [
    "model.fit(mat)"
   ]
  },
  {
   "cell_type": "code",
   "execution_count": 66,
   "id": "6270ed50-757b-4199-8917-9f6a384eb60b",
   "metadata": {},
   "outputs": [],
   "source": [
    "nmf_features = model.transform(mat)"
   ]
  },
  {
   "cell_type": "code",
   "execution_count": 67,
   "id": "cdacbbec-a73f-4b08-a735-1811b44ca429",
   "metadata": {},
   "outputs": [
    {
     "data": {
      "text/plain": [
       "array([[ 0.22759124,  0.73157561,  0.77159923],\n",
       "       [ 8.60254867, 14.46340326,  0.        ]])"
      ]
     },
     "execution_count": 67,
     "metadata": {},
     "output_type": "execute_result"
    }
   ],
   "source": [
    "nmf_features"
   ]
  },
  {
   "cell_type": "code",
   "execution_count": 68,
   "id": "7d7d1abb-3b03-434c-8adb-5e1003251e56",
   "metadata": {},
   "outputs": [
    {
     "data": {
      "text/plain": [
       "array([[1.32996650e+00, 7.40893980e+00, 3.06939420e-03, 2.87414106e+00],\n",
       "       [2.31995587e+00, 1.74713467e+00, 2.74681609e-01, 7.79672477e-01],\n",
       "       [0.00000000e+00, 4.61814381e-02, 6.21817075e+00, 6.18961015e+00]])"
      ]
     },
     "execution_count": 68,
     "metadata": {},
     "output_type": "execute_result"
    }
   ],
   "source": [
    "model.components_"
   ]
  },
  {
   "cell_type": "code",
   "execution_count": 69,
   "id": "0bd061e4-99fe-4e5e-b822-c11b6912caea",
   "metadata": {},
   "outputs": [],
   "source": [
    "import pickle"
   ]
  },
  {
   "cell_type": "code",
   "execution_count": 72,
   "id": "49b888d5-5e27-45b8-acdd-09272132bce1",
   "metadata": {},
   "outputs": [],
   "source": [
    "elat = pickle.load(open(\"data/elat\",\"rb\"))\n",
    "elon = pickle.load(open(\"data/elon\",\"rb\"))"
   ]
  },
  {
   "cell_type": "code",
   "execution_count": 73,
   "id": "5ecfecc3-da03-461b-b4c8-f36321061148",
   "metadata": {},
   "outputs": [
    {
     "data": {
      "text/plain": [
       "(458087, 458087)"
      ]
     },
     "execution_count": 73,
     "metadata": {},
     "output_type": "execute_result"
    }
   ],
   "source": [
    "len(elat),len(elon)"
   ]
  },
  {
   "cell_type": "code",
   "execution_count": 75,
   "id": "2cc1ba6b-bcda-4d38-a722-9b5614c81a35",
   "metadata": {},
   "outputs": [
    {
     "data": {
      "text/plain": [
       "['dvlgvlywjbxb',\n",
       " 'dlfrldysgbbc',\n",
       " 'hrkzllyvfbjc',\n",
       " '170374282',\n",
       " '228592712',\n",
       " 'njvctlyvlbhc',\n",
       " 'dpqbgcyrnbqb',\n",
       " 'dxzpffywjbfc',\n",
       " 'dlzvbfyrcbtb',\n",
       " '161926702']"
      ]
     },
     "execution_count": 75,
     "metadata": {},
     "output_type": "execute_result"
    }
   ],
   "source": [
    "list(elat.keys())[:10]"
   ]
  },
  {
   "cell_type": "code",
   "execution_count": 77,
   "id": "c34b8439-13e9-47fc-bc9b-58bc53a6ce98",
   "metadata": {},
   "outputs": [
    {
     "data": {
      "text/plain": [
       "(41.908699, -87.6819)"
      ]
     },
     "execution_count": 77,
     "metadata": {},
     "output_type": "execute_result"
    }
   ],
   "source": [
    "elat['dvlgvlywjbxb'],elon['dvlgvlywjbxb']"
   ]
  },
  {
   "cell_type": "code",
   "execution_count": 78,
   "id": "13e8291c-8997-4d96-8117-dc3f7f1e4543",
   "metadata": {},
   "outputs": [],
   "source": [
    "from pathlib import Path"
   ]
  },
  {
   "cell_type": "code",
   "execution_count": 100,
   "id": "ea3f356b-3158-4cc9-8f84-7327ed8f3860",
   "metadata": {},
   "outputs": [
    {
     "data": {
      "text/plain": [
       "5320"
      ]
     },
     "execution_count": 100,
     "metadata": {},
     "output_type": "execute_result"
    }
   ],
   "source": [
    "len([str(x).split('/')[-1].split('.')[0] for x in Path(\"member_level_features\").iterdir()])"
   ]
  },
  {
   "cell_type": "code",
   "execution_count": 88,
   "id": "e086ac03-c238-4807-ac60-7df16fe55dce",
   "metadata": {},
   "outputs": [
    {
     "data": {
      "text/plain": [
       "[PosixPath('member_level_features/1671174.csv'),\n",
       " PosixPath('member_level_features/1638409.csv'),\n",
       " PosixPath('member_level_features/15859722.csv'),\n",
       " PosixPath('member_level_features/1769484.csv'),\n",
       " PosixPath('member_level_features/18645005.csv'),\n",
       " PosixPath('member_level_features/18448408.csv'),\n",
       " PosixPath('member_level_features/1703963.csv'),\n",
       " PosixPath('member_level_features/20185123.csv'),\n",
       " PosixPath('member_level_features/20447271.csv'),\n",
       " PosixPath('member_level_features/16711722.csv')]"
      ]
     },
     "execution_count": 88,
     "metadata": {},
     "output_type": "execute_result"
    }
   ],
   "source": [
    "[x for x in Path(\"member_level_features\").iterdir()][:10]"
   ]
  },
  {
   "cell_type": "code",
   "execution_count": 89,
   "id": "869490df-b8a0-4a93-a751-64031deae32d",
   "metadata": {},
   "outputs": [],
   "source": [
    "df = pd.read_csv(\"member_level_features/1671174.csv\")"
   ]
  },
  {
   "cell_type": "code",
   "execution_count": 90,
   "id": "67cb0fc0-c159-4196-ab66-1a5e83300df5",
   "metadata": {},
   "outputs": [
    {
     "data": {
      "text/html": [
       "<div>\n",
       "<style scoped>\n",
       "    .dataframe tbody tr th:only-of-type {\n",
       "        vertical-align: middle;\n",
       "    }\n",
       "\n",
       "    .dataframe tbody tr th {\n",
       "        vertical-align: top;\n",
       "    }\n",
       "\n",
       "    .dataframe thead th {\n",
       "        text-align: right;\n",
       "    }\n",
       "</style>\n",
       "<table border=\"1\" class=\"dataframe\">\n",
       "  <thead>\n",
       "    <tr style=\"text-align: right;\">\n",
       "      <th></th>\n",
       "      <th>member</th>\n",
       "      <th>group_id</th>\n",
       "      <th>m1</th>\n",
       "      <th>m2</th>\n",
       "      <th>m3</th>\n",
       "      <th>m4</th>\n",
       "      <th>m5</th>\n",
       "      <th>m6</th>\n",
       "      <th>m7</th>\n",
       "      <th>m8</th>\n",
       "      <th>m9</th>\n",
       "      <th>m10</th>\n",
       "      <th>m11</th>\n",
       "      <th>m12</th>\n",
       "    </tr>\n",
       "  </thead>\n",
       "  <tbody>\n",
       "    <tr>\n",
       "      <th>0</th>\n",
       "      <td>4677635</td>\n",
       "      <td>1671174</td>\n",
       "      <td>72</td>\n",
       "      <td>1</td>\n",
       "      <td>13</td>\n",
       "      <td>0.918296</td>\n",
       "      <td>3.700440</td>\n",
       "      <td>1.584963</td>\n",
       "      <td>374.916667</td>\n",
       "      <td>33.944444</td>\n",
       "      <td>13.013889</td>\n",
       "      <td>1.724832</td>\n",
       "      <td>2.668147</td>\n",
       "      <td>2.092105</td>\n",
       "    </tr>\n",
       "    <tr>\n",
       "      <th>1</th>\n",
       "      <td>78503952</td>\n",
       "      <td>1671174</td>\n",
       "      <td>0</td>\n",
       "      <td>0</td>\n",
       "      <td>23</td>\n",
       "      <td>0.000000</td>\n",
       "      <td>4.175736</td>\n",
       "      <td>0.000000</td>\n",
       "      <td>0.000000</td>\n",
       "      <td>0.000000</td>\n",
       "      <td>0.000000</td>\n",
       "      <td>0.000000</td>\n",
       "      <td>0.000000</td>\n",
       "      <td>0.000000</td>\n",
       "    </tr>\n",
       "    <tr>\n",
       "      <th>2</th>\n",
       "      <td>72146962</td>\n",
       "      <td>1671174</td>\n",
       "      <td>0</td>\n",
       "      <td>0</td>\n",
       "      <td>11</td>\n",
       "      <td>1.000000</td>\n",
       "      <td>3.459432</td>\n",
       "      <td>1.000000</td>\n",
       "      <td>0.000000</td>\n",
       "      <td>0.000000</td>\n",
       "      <td>0.000000</td>\n",
       "      <td>0.000000</td>\n",
       "      <td>0.000000</td>\n",
       "      <td>0.000000</td>\n",
       "    </tr>\n",
       "    <tr>\n",
       "      <th>3</th>\n",
       "      <td>211894314</td>\n",
       "      <td>1671174</td>\n",
       "      <td>0</td>\n",
       "      <td>0</td>\n",
       "      <td>1</td>\n",
       "      <td>0.000000</td>\n",
       "      <td>0.000000</td>\n",
       "      <td>0.000000</td>\n",
       "      <td>0.000000</td>\n",
       "      <td>0.000000</td>\n",
       "      <td>0.000000</td>\n",
       "      <td>0.000000</td>\n",
       "      <td>0.000000</td>\n",
       "      <td>0.000000</td>\n",
       "    </tr>\n",
       "    <tr>\n",
       "      <th>4</th>\n",
       "      <td>181026862</td>\n",
       "      <td>1671174</td>\n",
       "      <td>0</td>\n",
       "      <td>0</td>\n",
       "      <td>6</td>\n",
       "      <td>1.000000</td>\n",
       "      <td>2.584963</td>\n",
       "      <td>1.000000</td>\n",
       "      <td>0.000000</td>\n",
       "      <td>0.000000</td>\n",
       "      <td>0.000000</td>\n",
       "      <td>0.000000</td>\n",
       "      <td>0.000000</td>\n",
       "      <td>0.000000</td>\n",
       "    </tr>\n",
       "    <tr>\n",
       "      <th>...</th>\n",
       "      <td>...</td>\n",
       "      <td>...</td>\n",
       "      <td>...</td>\n",
       "      <td>...</td>\n",
       "      <td>...</td>\n",
       "      <td>...</td>\n",
       "      <td>...</td>\n",
       "      <td>...</td>\n",
       "      <td>...</td>\n",
       "      <td>...</td>\n",
       "      <td>...</td>\n",
       "      <td>...</td>\n",
       "      <td>...</td>\n",
       "      <td>...</td>\n",
       "    </tr>\n",
       "    <tr>\n",
       "      <th>1732</th>\n",
       "      <td>15802341</td>\n",
       "      <td>1671174</td>\n",
       "      <td>60</td>\n",
       "      <td>1</td>\n",
       "      <td>3</td>\n",
       "      <td>0.000000</td>\n",
       "      <td>1.584963</td>\n",
       "      <td>0.000000</td>\n",
       "      <td>388.300000</td>\n",
       "      <td>38.966667</td>\n",
       "      <td>10.266667</td>\n",
       "      <td>1.659389</td>\n",
       "      <td>2.472409</td>\n",
       "      <td>2.008393</td>\n",
       "    </tr>\n",
       "    <tr>\n",
       "      <th>1733</th>\n",
       "      <td>134496232</td>\n",
       "      <td>1671174</td>\n",
       "      <td>81</td>\n",
       "      <td>1</td>\n",
       "      <td>2</td>\n",
       "      <td>0.000000</td>\n",
       "      <td>1.000000</td>\n",
       "      <td>0.000000</td>\n",
       "      <td>338.407407</td>\n",
       "      <td>28.444444</td>\n",
       "      <td>14.123457</td>\n",
       "      <td>1.566956</td>\n",
       "      <td>2.668083</td>\n",
       "      <td>2.028720</td>\n",
       "    </tr>\n",
       "    <tr>\n",
       "      <th>1734</th>\n",
       "      <td>201498614</td>\n",
       "      <td>1671174</td>\n",
       "      <td>0</td>\n",
       "      <td>0</td>\n",
       "      <td>1</td>\n",
       "      <td>0.000000</td>\n",
       "      <td>0.000000</td>\n",
       "      <td>0.000000</td>\n",
       "      <td>0.000000</td>\n",
       "      <td>0.000000</td>\n",
       "      <td>0.000000</td>\n",
       "      <td>0.000000</td>\n",
       "      <td>0.000000</td>\n",
       "      <td>0.000000</td>\n",
       "    </tr>\n",
       "    <tr>\n",
       "      <th>1735</th>\n",
       "      <td>62038012</td>\n",
       "      <td>1671174</td>\n",
       "      <td>0</td>\n",
       "      <td>0</td>\n",
       "      <td>1</td>\n",
       "      <td>0.000000</td>\n",
       "      <td>0.000000</td>\n",
       "      <td>0.000000</td>\n",
       "      <td>0.000000</td>\n",
       "      <td>0.000000</td>\n",
       "      <td>0.000000</td>\n",
       "      <td>0.000000</td>\n",
       "      <td>0.000000</td>\n",
       "      <td>0.000000</td>\n",
       "    </tr>\n",
       "    <tr>\n",
       "      <th>1736</th>\n",
       "      <td>11730941</td>\n",
       "      <td>1671174</td>\n",
       "      <td>0</td>\n",
       "      <td>0</td>\n",
       "      <td>1</td>\n",
       "      <td>0.000000</td>\n",
       "      <td>0.000000</td>\n",
       "      <td>0.000000</td>\n",
       "      <td>0.000000</td>\n",
       "      <td>0.000000</td>\n",
       "      <td>0.000000</td>\n",
       "      <td>0.000000</td>\n",
       "      <td>0.000000</td>\n",
       "      <td>0.000000</td>\n",
       "    </tr>\n",
       "  </tbody>\n",
       "</table>\n",
       "<p>1737 rows × 14 columns</p>\n",
       "</div>"
      ],
      "text/plain": [
       "         member  group_id  m1  m2  m3        m4        m5        m6  \\\n",
       "0       4677635   1671174  72   1  13  0.918296  3.700440  1.584963   \n",
       "1      78503952   1671174   0   0  23  0.000000  4.175736  0.000000   \n",
       "2      72146962   1671174   0   0  11  1.000000  3.459432  1.000000   \n",
       "3     211894314   1671174   0   0   1  0.000000  0.000000  0.000000   \n",
       "4     181026862   1671174   0   0   6  1.000000  2.584963  1.000000   \n",
       "...         ...       ...  ..  ..  ..       ...       ...       ...   \n",
       "1732   15802341   1671174  60   1   3  0.000000  1.584963  0.000000   \n",
       "1733  134496232   1671174  81   1   2  0.000000  1.000000  0.000000   \n",
       "1734  201498614   1671174   0   0   1  0.000000  0.000000  0.000000   \n",
       "1735   62038012   1671174   0   0   1  0.000000  0.000000  0.000000   \n",
       "1736   11730941   1671174   0   0   1  0.000000  0.000000  0.000000   \n",
       "\n",
       "              m7         m8         m9       m10       m11       m12  \n",
       "0     374.916667  33.944444  13.013889  1.724832  2.668147  2.092105  \n",
       "1       0.000000   0.000000   0.000000  0.000000  0.000000  0.000000  \n",
       "2       0.000000   0.000000   0.000000  0.000000  0.000000  0.000000  \n",
       "3       0.000000   0.000000   0.000000  0.000000  0.000000  0.000000  \n",
       "4       0.000000   0.000000   0.000000  0.000000  0.000000  0.000000  \n",
       "...          ...        ...        ...       ...       ...       ...  \n",
       "1732  388.300000  38.966667  10.266667  1.659389  2.472409  2.008393  \n",
       "1733  338.407407  28.444444  14.123457  1.566956  2.668083  2.028720  \n",
       "1734    0.000000   0.000000   0.000000  0.000000  0.000000  0.000000  \n",
       "1735    0.000000   0.000000   0.000000  0.000000  0.000000  0.000000  \n",
       "1736    0.000000   0.000000   0.000000  0.000000  0.000000  0.000000  \n",
       "\n",
       "[1737 rows x 14 columns]"
      ]
     },
     "execution_count": 90,
     "metadata": {},
     "output_type": "execute_result"
    }
   ],
   "source": [
    "df"
   ]
  },
  {
   "cell_type": "code",
   "execution_count": 91,
   "id": "c92be34d-e998-48f3-9096-4d177ffce7f0",
   "metadata": {},
   "outputs": [],
   "source": [
    "x = {}"
   ]
  },
  {
   "cell_type": "code",
   "execution_count": 92,
   "id": "72cdd514-7b53-4eca-9c87-dc8d2f6ffa32",
   "metadata": {},
   "outputs": [],
   "source": [
    "x[(45,89)] =456"
   ]
  },
  {
   "cell_type": "code",
   "execution_count": 93,
   "id": "c8349a6e-c946-4203-bd56-4884b2f60a18",
   "metadata": {},
   "outputs": [],
   "source": [
    "x[(1,-1)] =12"
   ]
  },
  {
   "cell_type": "code",
   "execution_count": 95,
   "id": "c8b34cb8-4ab5-4a92-b6a0-55181d185f95",
   "metadata": {},
   "outputs": [
    {
     "ename": "KeyError",
     "evalue": "(1, 0)",
     "output_type": "error",
     "traceback": [
      "\u001b[0;31m---------------------------------------------------------------------------\u001b[0m",
      "\u001b[0;31mKeyError\u001b[0m                                  Traceback (most recent call last)",
      "\u001b[0;32m/tmp/ipykernel_27948/1746799476.py\u001b[0m in \u001b[0;36m<module>\u001b[0;34m\u001b[0m\n\u001b[0;32m----> 1\u001b[0;31m \u001b[0mx\u001b[0m\u001b[0;34m[\u001b[0m\u001b[0;34m(\u001b[0m\u001b[0;36m1\u001b[0m\u001b[0;34m,\u001b[0m\u001b[0;34m-\u001b[0m\u001b[0;36m0\u001b[0m\u001b[0;34m)\u001b[0m\u001b[0;34m]\u001b[0m\u001b[0;34m\u001b[0m\u001b[0;34m\u001b[0m\u001b[0m\n\u001b[0m",
      "\u001b[0;31mKeyError\u001b[0m: (1, 0)"
     ]
    }
   ],
   "source": [
    "x[(1,-0)]"
   ]
  },
  {
   "cell_type": "code",
   "execution_count": 96,
   "id": "4ede3505-73cf-45d6-8775-d1d42e15e2a7",
   "metadata": {},
   "outputs": [],
   "source": [
    "groupjoin = pickle.load(open(\"data/groupjoin\",\"rb\"))\n",
    "new_grp_event = pickle.load(open(\"data/new_grp_event\",\"rb\"))\n",
    "ersvp = pickle.load(open(\"data/ersvp\",\"rb\"))"
   ]
  },
  {
   "cell_type": "code",
   "execution_count": 97,
   "id": "9d955700-81f9-4b79-808b-5a3a2eb18412",
   "metadata": {},
   "outputs": [
    {
     "data": {
      "text/plain": [
       "5952"
      ]
     },
     "execution_count": 97,
     "metadata": {},
     "output_type": "execute_result"
    }
   ],
   "source": [
    "len(groupjoin)"
   ]
  },
  {
   "cell_type": "code",
   "execution_count": 98,
   "id": "977b21f7-d83e-4b20-a766-4b7e994a02be",
   "metadata": {},
   "outputs": [
    {
     "data": {
      "text/plain": [
       "5647"
      ]
     },
     "execution_count": 98,
     "metadata": {},
     "output_type": "execute_result"
    }
   ],
   "source": [
    "len(new_grp_event)"
   ]
  },
  {
   "cell_type": "code",
   "execution_count": 99,
   "id": "30224f84-ef97-40a5-b201-11fb9d00d4c8",
   "metadata": {},
   "outputs": [
    {
     "data": {
      "text/plain": [
       "294571"
      ]
     },
     "execution_count": 99,
     "metadata": {},
     "output_type": "execute_result"
    }
   ],
   "source": [
    "len(ersvp)"
   ]
  },
  {
   "cell_type": "code",
   "execution_count": 1,
   "id": "e5452937-b3d9-42ff-85b0-473751a138bb",
   "metadata": {},
   "outputs": [],
   "source": [
    "from pathlib import Path\n",
    "y= [x for x in Path(\"group_level_features\").iterdir()]"
   ]
  },
  {
   "cell_type": "code",
   "execution_count": 2,
   "id": "791fe782-e964-4a2f-bbef-54538b9733c8",
   "metadata": {},
   "outputs": [
    {
     "data": {
      "text/plain": [
       "2135"
      ]
     },
     "execution_count": 2,
     "metadata": {},
     "output_type": "execute_result"
    }
   ],
   "source": [
    "len(y)"
   ]
  },
  {
   "cell_type": "code",
   "execution_count": null,
   "id": "5aab1d0a-45fd-4f52-85cc-ae8eef6d1672",
   "metadata": {},
   "outputs": [],
   "source": []
  }
 ],
 "metadata": {
  "kernelspec": {
   "display_name": "Python 3 (ipykernel)",
   "language": "python",
   "name": "python3"
  },
  "language_info": {
   "codemirror_mode": {
    "name": "ipython",
    "version": 3
   },
   "file_extension": ".py",
   "mimetype": "text/x-python",
   "name": "python",
   "nbconvert_exporter": "python",
   "pygments_lexer": "ipython3",
   "version": "3.7.11"
  }
 },
 "nbformat": 4,
 "nbformat_minor": 5
}
